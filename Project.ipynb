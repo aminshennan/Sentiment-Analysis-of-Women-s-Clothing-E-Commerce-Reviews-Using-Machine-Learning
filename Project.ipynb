{
 "cells": [
  {
   "cell_type": "markdown",
   "metadata": {},
   "source": [
    "<img src=\"logo-MMU.png\" style=\"height: 140px; width: 400px\" align=center> "
   ]
  },
  {
   "cell_type": "markdown",
   "metadata": {
    "colab": {
     "base_uri": "https://localhost:8080/"
    },
    "id": "hw-DlLoFK5bb",
    "outputId": "420d7458-634d-4016-cd0d-4b4f0919e9d5"
   },
   "source": [
    "\n",
    "# Machine Learning Project\n",
    "\n",
    "\n",
    "# sentiment analysis on Women's Clothing E-Commerce Reviews\n",
    "\n",
    ">#### Group ID : ML1_T2220\n",
    "> #### Group Members:\n",
    "\n",
    "| ID | Name |Specialization | Contribution |\n",
    "|-----------|--------------------|-------------|----|\n",
    "|1211309776 |Jennifer Lo Foh Wei |Data Science |CNN |\n",
    "|1191302190 |Amin Ahmed          |Data Science |RNN |\n",
    "|1171103208 |Obai Ali            |Data Science |FNN |\n"
   ]
  },
  {
   "cell_type": "markdown",
   "metadata": {},
   "source": [
    "# Abstract \n",
    "\n",
    "This report examines sentiment analysis on the Women's Clothing E-Commerce Reviews dataset using machine learning. In our study, we employed Recurrent Neural Network (RNN), Convolutional Neural Network (CNN), and Feedforward Neural Network (FNN) models. The preprocessing steps involved exploration of the data, removal of punctuation and conversion to lowercase, tokenization, stop word removal, lemmatization, and removal of non-English words. The models were evaluated based on their performance, with detailed comparison presented in the report. The results underline the effectiveness of deep learning techniques for sentiment analysis in the e-commerce sector, having substantial implications for businesses looking to extract value from customer feedback data. "
   ]
  },
  {
   "cell_type": "markdown",
   "metadata": {},
   "source": [
    "# import libraries"
   ]
  },
  {
   "cell_type": "markdown",
   "metadata": {
    "colab": {
     "base_uri": "https://localhost:8080/"
    },
    "id": "NglakIiAN3yl",
    "outputId": "02a2a4b0-5eff-4b5e-9dc6-b217a9d2a059"
   },
   "source": [
    "for using google colab run this cell"
   ]
  },
  {
   "cell_type": "code",
   "execution_count": 1,
   "metadata": {
    "colab": {
     "base_uri": "https://localhost:8080/"
    },
    "id": "cOoE0P0_ODUZ",
    "outputId": "0559c9c6-6280-49d6-e1db-5078575f8d54"
   },
   "outputs": [],
   "source": [
    "#!apt install -qq enchant\n",
    "#!pip install keras-tuner\n",
    "#!pip install pyenchant"
   ]
  },
  {
   "cell_type": "code",
   "execution_count": 2,
   "metadata": {
    "id": "MJ4zCjKON9VY"
   },
   "outputs": [],
   "source": [
    "import pandas as pd\n",
    "import numpy as np\n",
    "import re\n",
    "import string\n",
    "import math\n",
    "import seaborn as sns\n",
    "import matplotlib.pyplot as plt\n",
    "from matplotlib.colors import ListedColormap\n",
    "import enchant\n",
    "import tensorflow as tf\n",
    "%matplotlib inline\n",
    "\n",
    "from sklearn.preprocessing import LabelEncoder\n",
    "from sklearn.feature_extraction.text import CountVectorizer\n",
    "from sklearn.neighbors import KNeighborsClassifier\n",
    "from sklearn.model_selection import train_test_split\n",
    "from sklearn.metrics import mean_squared_error, confusion_matrix, classification_report, accuracy_score, recall_score, precision_score, f1_score\n",
    "\n",
    "# Handling Imbalanced Data\n",
    "from imblearn.under_sampling import NearMiss\n",
    "from collections import Counter\n",
    "\n",
    "# Visualizing Wordcloud\n",
    "from wordcloud import WordCloud"
   ]
  },
  {
   "cell_type": "code",
   "execution_count": 3,
   "metadata": {
    "colab": {
     "base_uri": "https://localhost:8080/"
    },
    "id": "xq7XaEeAOKAt",
    "outputId": "7a0e2f6f-e458-4a38-dc2e-9b1bda0b2cc5"
   },
   "outputs": [
    {
     "name": "stderr",
     "output_type": "stream",
     "text": [
      "[nltk_data] Downloading package punkt to\n",
      "[nltk_data]     C:\\Users\\amins\\AppData\\Roaming\\nltk_data...\n",
      "[nltk_data]   Package punkt is already up-to-date!\n",
      "[nltk_data] Downloading package words to\n",
      "[nltk_data]     C:\\Users\\amins\\AppData\\Roaming\\nltk_data...\n",
      "[nltk_data]   Package words is already up-to-date!\n",
      "[nltk_data] Downloading package stopwords to\n",
      "[nltk_data]     C:\\Users\\amins\\AppData\\Roaming\\nltk_data...\n",
      "[nltk_data]   Package stopwords is already up-to-date!\n",
      "[nltk_data] Downloading package wordnet to\n",
      "[nltk_data]     C:\\Users\\amins\\AppData\\Roaming\\nltk_data...\n",
      "[nltk_data]   Package wordnet is already up-to-date!\n",
      "[nltk_data] Downloading package averaged_perceptron_tagger to\n",
      "[nltk_data]     C:\\Users\\amins\\AppData\\Roaming\\nltk_data...\n",
      "[nltk_data]   Package averaged_perceptron_tagger is already up-to-\n",
      "[nltk_data]       date!\n"
     ]
    }
   ],
   "source": [
    "import nltk\n",
    "nltk.download('punkt')\n",
    "nltk.download('words')\n",
    "nltk.download('stopwords')\n",
    "nltk.download('wordnet')\n",
    "nltk.download('averaged_perceptron_tagger')\n",
    "from nltk.tokenize import word_tokenize\n",
    "from nltk.corpus import stopwords\n",
    "from nltk.stem import PorterStemmer\n",
    "from nltk.stem.wordnet import WordNetLemmatizer"
   ]
  },
  {
   "cell_type": "markdown",
   "metadata": {
    "id": "uRRdQ-sFWRLu"
   },
   "source": [
    "# Data Understanding"
   ]
  },
  {
   "cell_type": "code",
   "execution_count": 4,
   "metadata": {
    "colab": {
     "base_uri": "https://localhost:8080/",
     "height": 547
    },
    "id": "lDo6H8m-LJWZ",
    "outputId": "560922f4-7c53-4f44-cf68-bc120711423e"
   },
   "outputs": [
    {
     "data": {
      "text/html": [
       "<div>\n",
       "<style scoped>\n",
       "    .dataframe tbody tr th:only-of-type {\n",
       "        vertical-align: middle;\n",
       "    }\n",
       "\n",
       "    .dataframe tbody tr th {\n",
       "        vertical-align: top;\n",
       "    }\n",
       "\n",
       "    .dataframe thead th {\n",
       "        text-align: right;\n",
       "    }\n",
       "</style>\n",
       "<table border=\"1\" class=\"dataframe\">\n",
       "  <thead>\n",
       "    <tr style=\"text-align: right;\">\n",
       "      <th></th>\n",
       "      <th></th>\n",
       "      <th>Clothing_ID</th>\n",
       "      <th>Age</th>\n",
       "      <th>Title</th>\n",
       "      <th>Review_Text</th>\n",
       "      <th>Rating</th>\n",
       "      <th>Recommended_IND</th>\n",
       "      <th>Positive_Feedback_Count</th>\n",
       "      <th>Division_Name</th>\n",
       "      <th>Department_Name</th>\n",
       "      <th>Class_Name</th>\n",
       "    </tr>\n",
       "  </thead>\n",
       "  <tbody>\n",
       "    <tr>\n",
       "      <th>0</th>\n",
       "      <td>0</td>\n",
       "      <td>767</td>\n",
       "      <td>33</td>\n",
       "      <td>NaN</td>\n",
       "      <td>Absolutely wonderful - silky and sexy and comf...</td>\n",
       "      <td>4</td>\n",
       "      <td>1</td>\n",
       "      <td>0</td>\n",
       "      <td>Initmates</td>\n",
       "      <td>Intimate</td>\n",
       "      <td>Intimates</td>\n",
       "    </tr>\n",
       "    <tr>\n",
       "      <th>1</th>\n",
       "      <td>1</td>\n",
       "      <td>1080</td>\n",
       "      <td>34</td>\n",
       "      <td>NaN</td>\n",
       "      <td>Love this dress!  it's sooo pretty.  i happene...</td>\n",
       "      <td>5</td>\n",
       "      <td>1</td>\n",
       "      <td>4</td>\n",
       "      <td>General</td>\n",
       "      <td>Dresses</td>\n",
       "      <td>Dresses</td>\n",
       "    </tr>\n",
       "    <tr>\n",
       "      <th>2</th>\n",
       "      <td>2</td>\n",
       "      <td>1077</td>\n",
       "      <td>60</td>\n",
       "      <td>Some major design flaws</td>\n",
       "      <td>I had such high hopes for this dress and reall...</td>\n",
       "      <td>3</td>\n",
       "      <td>0</td>\n",
       "      <td>0</td>\n",
       "      <td>General</td>\n",
       "      <td>Dresses</td>\n",
       "      <td>Dresses</td>\n",
       "    </tr>\n",
       "    <tr>\n",
       "      <th>3</th>\n",
       "      <td>3</td>\n",
       "      <td>1049</td>\n",
       "      <td>50</td>\n",
       "      <td>My favorite buy!</td>\n",
       "      <td>I love, love, love this jumpsuit. it's fun, fl...</td>\n",
       "      <td>5</td>\n",
       "      <td>1</td>\n",
       "      <td>0</td>\n",
       "      <td>General Petite</td>\n",
       "      <td>Bottoms</td>\n",
       "      <td>Pants</td>\n",
       "    </tr>\n",
       "    <tr>\n",
       "      <th>4</th>\n",
       "      <td>4</td>\n",
       "      <td>847</td>\n",
       "      <td>47</td>\n",
       "      <td>Flattering shirt</td>\n",
       "      <td>This shirt is very flattering to all due to th...</td>\n",
       "      <td>5</td>\n",
       "      <td>1</td>\n",
       "      <td>6</td>\n",
       "      <td>General</td>\n",
       "      <td>Tops</td>\n",
       "      <td>Blouses</td>\n",
       "    </tr>\n",
       "  </tbody>\n",
       "</table>\n",
       "</div>"
      ],
      "text/plain": [
       "      Clothing_ID  Age                    Title  \\\n",
       "0  0          767   33                      NaN   \n",
       "1  1         1080   34                      NaN   \n",
       "2  2         1077   60  Some major design flaws   \n",
       "3  3         1049   50         My favorite buy!   \n",
       "4  4          847   47         Flattering shirt   \n",
       "\n",
       "                                         Review_Text  Rating  Recommended_IND  \\\n",
       "0  Absolutely wonderful - silky and sexy and comf...       4                1   \n",
       "1  Love this dress!  it's sooo pretty.  i happene...       5                1   \n",
       "2  I had such high hopes for this dress and reall...       3                0   \n",
       "3  I love, love, love this jumpsuit. it's fun, fl...       5                1   \n",
       "4  This shirt is very flattering to all due to th...       5                1   \n",
       "\n",
       "   Positive_Feedback_Count   Division_Name Department_Name Class_Name  \n",
       "0                        0       Initmates        Intimate  Intimates  \n",
       "1                        4         General         Dresses    Dresses  \n",
       "2                        0         General         Dresses    Dresses  \n",
       "3                        0  General Petite         Bottoms      Pants  \n",
       "4                        6         General            Tops    Blouses  "
      ]
     },
     "execution_count": 4,
     "metadata": {},
     "output_type": "execute_result"
    }
   ],
   "source": [
    "import pandas as pd\n",
    "#Read the dataFrame\n",
    "df = pd.read_csv('Womens Clothing E-Commerce Reviews.csv',\n",
    "                 skiprows=1,\n",
    "                 names=['','Clothing_ID','Age','Title','Review_Text','Rating','Recommended_IND','Positive_Feedback_Count','Division_Name','Department_Name','Class_Name'])\n",
    "df.head()"
   ]
  },
  {
   "cell_type": "code",
   "execution_count": 5,
   "metadata": {
    "colab": {
     "base_uri": "https://localhost:8080/"
    },
    "id": "7NDNvx0TV1R1",
    "outputId": "9a8f03f1-b7bf-4400-f43c-7616b7a5b5c2"
   },
   "outputs": [
    {
     "data": {
      "text/plain": [
       "(23486, 11)"
      ]
     },
     "execution_count": 5,
     "metadata": {},
     "output_type": "execute_result"
    }
   ],
   "source": [
    "df.shape"
   ]
  },
  {
   "cell_type": "code",
   "execution_count": 6,
   "metadata": {
    "colab": {
     "base_uri": "https://localhost:8080/"
    },
    "id": "jXU7RyZKamoG",
    "outputId": "f215c940-3470-4eb9-96b3-d0df9362e51d"
   },
   "outputs": [
    {
     "name": "stdout",
     "output_type": "stream",
     "text": [
      "<class 'pandas.core.frame.DataFrame'>\n",
      "RangeIndex: 23486 entries, 0 to 23485\n",
      "Data columns (total 11 columns):\n",
      " #   Column                   Non-Null Count  Dtype \n",
      "---  ------                   --------------  ----- \n",
      " 0                            23486 non-null  int64 \n",
      " 1   Clothing_ID              23486 non-null  int64 \n",
      " 2   Age                      23486 non-null  int64 \n",
      " 3   Title                    19676 non-null  object\n",
      " 4   Review_Text              22641 non-null  object\n",
      " 5   Rating                   23486 non-null  int64 \n",
      " 6   Recommended_IND          23486 non-null  int64 \n",
      " 7   Positive_Feedback_Count  23486 non-null  int64 \n",
      " 8   Division_Name            23472 non-null  object\n",
      " 9   Department_Name          23472 non-null  object\n",
      " 10  Class_Name               23472 non-null  object\n",
      "dtypes: int64(6), object(5)\n",
      "memory usage: 2.0+ MB\n"
     ]
    }
   ],
   "source": [
    "df.info()"
   ]
  },
  {
   "cell_type": "code",
   "execution_count": 7,
   "metadata": {
    "id": "MTawufBfcfs8"
   },
   "outputs": [],
   "source": [
    "df['Recommended_IND'] = df['Recommended_IND'].replace(0, 'Not Recommended')\n",
    "df['Recommended_IND'] = df['Recommended_IND'].replace(1, 'Recommended')"
   ]
  },
  {
   "cell_type": "code",
   "execution_count": 8,
   "metadata": {
    "colab": {
     "base_uri": "https://localhost:8080/",
     "height": 585
    },
    "id": "gYgxIq4qa5UR",
    "outputId": "80300c9d-d783-44cd-9b2b-c6a9ee3838af"
   },
   "outputs": [
    {
     "data": {
      "image/png": "[encoded data removed]",
      "text/plain": [
       "<Figure size 600x600 with 1 Axes>"
      ]
     },
     "metadata": {},
     "output_type": "display_data"
    }
   ],
   "source": [
    "#display the chart\n",
    "# Bar chart\n",
    "import matplotlib.pyplot as plt\n",
    "import seaborn as sns\n",
    "# Print Bar Chart\n",
    "plt.figure(figsize=(6,6))\n",
    "sns.countplot(data = df, x = 'Recommended_IND')\n",
    "sns.set_palette('PuBuGn_d')\n",
    "plt.title(\"Number of recommendation and non-recommendation\\n\")\n",
    "plt.ylabel(\"Frequency\")\n",
    "plt.xlabel(\"Recommended IND\")\n",
    "#plt.yticks(np.arange(0,190,10))\n",
    "plt.show()\n"
   ]
  },
  {
   "cell_type": "code",
   "execution_count": 9,
   "metadata": {
    "colab": {
     "base_uri": "https://localhost:8080/",
     "height": 498
    },
    "id": "oOyweEUnbB8g",
    "outputId": "9e4bb027-aab1-4dee-c4f0-050716018cb3"
   },
   "outputs": [
    {
     "name": "stdout",
     "output_type": "stream",
     "text": [
      "Recommended        19314\n",
      "Not Recommended     4172\n",
      "Name: Recommended_IND, dtype: int64\n"
     ]
    },
    {
     "data": {
      "image/png": "[encoded data removed]",
      "text/plain": [
       "<Figure size 500x500 with 1 Axes>"
      ]
     },
     "metadata": {},
     "output_type": "display_data"
    }
   ],
   "source": [
    "# Print Pie Chart\n",
    "Recommended_IND = df.Recommended_IND.value_counts()\n",
    "print(Recommended_IND)\n",
    "\n",
    "plt.figure(figsize=(5,5))\n",
    "Recommended_IND.plot.pie(autopct = '%1.2f%%', shadow = True, explode = (0.05,0), cmap = 'tab20c',startangle = 180, fontsize = 15)\n",
    "plt.title(\"Percentage Result of Recommendation\",fontsize = 15)\n",
    "plt.xlabel('')\n",
    "plt.ylabel('')\n",
    "plt.show()"
   ]
  },
  {
   "cell_type": "code",
   "execution_count": 10,
   "metadata": {
    "id": "9EmvwUYocoyk"
   },
   "outputs": [],
   "source": [
    "df['Recommended_IND'] = df['Recommended_IND'].replace('Not Recommended',0)\n",
    "df['Recommended_IND'] = df['Recommended_IND'].replace('Recommended',1)"
   ]
  },
  {
   "cell_type": "markdown",
   "metadata": {
    "id": "8U8FxXqNOSMO"
   },
   "source": [
    "# Data Preprocessing"
   ]
  },
  {
   "cell_type": "markdown",
   "metadata": {
    "id": "72o_PZxkmr1X"
   },
   "source": [
    "## Remove Unwanted Columns\n"
   ]
  },
  {
   "cell_type": "code",
   "execution_count": 11,
   "metadata": {
    "colab": {
     "base_uri": "https://localhost:8080/"
    },
    "id": "Y0yHzoqOh9kI",
    "outputId": "c37972b1-2d72-4433-a34d-f25d0ba68ffb"
   },
   "outputs": [
    {
     "name": "stdout",
     "output_type": "stream",
     "text": [
      "Updated Shape of Data: (23486, 2)\n"
     ]
    }
   ],
   "source": [
    "df = df.loc[:, df.columns.intersection(['Review_Text','Recommended_IND'])]\n",
    "print(f'Updated Shape of Data: {df.shape}')"
   ]
  },
  {
   "cell_type": "code",
   "execution_count": 12,
   "metadata": {
    "colab": {
     "base_uri": "https://localhost:8080/",
     "height": 206
    },
    "id": "eFNex6WZiVGs",
    "outputId": "98605f5e-acd7-451c-aa9a-6b1b969fb1fb"
   },
   "outputs": [
    {
     "data": {
      "text/html": [
       "<div>\n",
       "<style scoped>\n",
       "    .dataframe tbody tr th:only-of-type {\n",
       "        vertical-align: middle;\n",
       "    }\n",
       "\n",
       "    .dataframe tbody tr th {\n",
       "        vertical-align: top;\n",
       "    }\n",
       "\n",
       "    .dataframe thead th {\n",
       "        text-align: right;\n",
       "    }\n",
       "</style>\n",
       "<table border=\"1\" class=\"dataframe\">\n",
       "  <thead>\n",
       "    <tr style=\"text-align: right;\">\n",
       "      <th></th>\n",
       "      <th>Review_Text</th>\n",
       "      <th>Recommended_IND</th>\n",
       "    </tr>\n",
       "  </thead>\n",
       "  <tbody>\n",
       "    <tr>\n",
       "      <th>0</th>\n",
       "      <td>Absolutely wonderful - silky and sexy and comf...</td>\n",
       "      <td>1</td>\n",
       "    </tr>\n",
       "    <tr>\n",
       "      <th>1</th>\n",
       "      <td>Love this dress!  it's sooo pretty.  i happene...</td>\n",
       "      <td>1</td>\n",
       "    </tr>\n",
       "    <tr>\n",
       "      <th>2</th>\n",
       "      <td>I had such high hopes for this dress and reall...</td>\n",
       "      <td>0</td>\n",
       "    </tr>\n",
       "    <tr>\n",
       "      <th>3</th>\n",
       "      <td>I love, love, love this jumpsuit. it's fun, fl...</td>\n",
       "      <td>1</td>\n",
       "    </tr>\n",
       "    <tr>\n",
       "      <th>4</th>\n",
       "      <td>This shirt is very flattering to all due to th...</td>\n",
       "      <td>1</td>\n",
       "    </tr>\n",
       "  </tbody>\n",
       "</table>\n",
       "</div>"
      ],
      "text/plain": [
       "                                         Review_Text  Recommended_IND\n",
       "0  Absolutely wonderful - silky and sexy and comf...                1\n",
       "1  Love this dress!  it's sooo pretty.  i happene...                1\n",
       "2  I had such high hopes for this dress and reall...                0\n",
       "3  I love, love, love this jumpsuit. it's fun, fl...                1\n",
       "4  This shirt is very flattering to all due to th...                1"
      ]
     },
     "execution_count": 12,
     "metadata": {},
     "output_type": "execute_result"
    }
   ],
   "source": [
    "df.reset_index(drop=True, inplace=True)\n",
    "df.head()"
   ]
  },
  {
   "cell_type": "markdown",
   "metadata": {
    "id": "oz7boRSRQ_fw"
   },
   "source": [
    "## Handle Missing Value\n",
    "\n",
    "### Check missing value\n"
   ]
  },
  {
   "cell_type": "code",
   "execution_count": 13,
   "metadata": {
    "colab": {
     "base_uri": "https://localhost:8080/"
    },
    "id": "I_mJC0FFUP3w",
    "outputId": "d899aca4-2c91-4a15-f784-9e3543751237"
   },
   "outputs": [
    {
     "data": {
      "text/plain": [
       "Review_Text         True\n",
       "Recommended_IND    False\n",
       "dtype: bool"
      ]
     },
     "execution_count": 13,
     "metadata": {},
     "output_type": "execute_result"
    }
   ],
   "source": [
    "#check missing value\n",
    "nullValue = df.isnull().any()\n",
    "nullValue\n"
   ]
  },
  {
   "cell_type": "code",
   "execution_count": 14,
   "metadata": {
    "colab": {
     "base_uri": "https://localhost:8080/"
    },
    "id": "4432rqAQQ8XW",
    "outputId": "3d5f5ecb-9a98-4348-885d-712f1e325976"
   },
   "outputs": [
    {
     "data": {
      "text/plain": [
       "Review_Text        845\n",
       "Recommended_IND      0\n",
       "dtype: int64"
      ]
     },
     "execution_count": 14,
     "metadata": {},
     "output_type": "execute_result"
    }
   ],
   "source": [
    "# Check missing values\n",
    "df.isnull().sum()"
   ]
  },
  {
   "cell_type": "code",
   "execution_count": 15,
   "metadata": {
    "colab": {
     "base_uri": "https://localhost:8080/"
    },
    "id": "XSPkToZLQ2QI",
    "outputId": "dcedddc8-bce1-4ae1-b7ed-18e7b255675c"
   },
   "outputs": [
    {
     "name": "stdout",
     "output_type": "stream",
     "text": [
      "Percentage of missing value: 1.80%\n"
     ]
    }
   ],
   "source": [
    "# total missing values\n",
    "t_cells = np.product(df.shape)\n",
    "t_missing = df.isnull().sum().sum() # total missing value for all the variable\n",
    "# percentage of missing data\n",
    "percent_missing = (t_missing/t_cells) * 100\n",
    "print(\"Percentage of missing value: {:.2f}%\".format(percent_missing))"
   ]
  },
  {
   "cell_type": "code",
   "execution_count": 16,
   "metadata": {
    "id": "UAtutga9VCfR"
   },
   "outputs": [],
   "source": [
    "# Drop out missing values for all columns\n",
    "df = df.dropna(how='any')\n"
   ]
  },
  {
   "cell_type": "code",
   "execution_count": 17,
   "metadata": {
    "colab": {
     "base_uri": "https://localhost:8080/"
    },
    "id": "BdgxSDvZYxEb",
    "outputId": "9659a391-713a-492f-91e1-978974ef2714"
   },
   "outputs": [
    {
     "data": {
      "text/plain": [
       "(22641, 2)"
      ]
     },
     "execution_count": 17,
     "metadata": {},
     "output_type": "execute_result"
    }
   ],
   "source": [
    "# after dropping missing value\n",
    "df.shape"
   ]
  },
  {
   "cell_type": "code",
   "execution_count": 18,
   "metadata": {
    "id": "jnpsBa55TDt3"
   },
   "outputs": [],
   "source": [
    "X = np.array(df.iloc[:, df.columns != 'Recommended_IND'])\n",
    "y = np.array(df.iloc[:, df.columns == 'Recommended_IND'])"
   ]
  },
  {
   "cell_type": "code",
   "execution_count": 19,
   "metadata": {
    "colab": {
     "base_uri": "https://localhost:8080/"
    },
    "id": "lQlBQ_4_hZhd",
    "outputId": "828fabc3-f772-45e3-fd48-a23dd6ab835f"
   },
   "outputs": [
    {
     "data": {
      "text/plain": [
       "Review_Text        False\n",
       "Recommended_IND    False\n",
       "dtype: bool"
      ]
     },
     "execution_count": 19,
     "metadata": {},
     "output_type": "execute_result"
    }
   ],
   "source": [
    "#double comfirm missing value\n",
    "nullValue = df.isnull().any()\n",
    "nullValue"
   ]
  },
  {
   "cell_type": "markdown",
   "metadata": {
    "id": "D0i2RKwPoBAr"
   },
   "source": [
    "## Remove Punctuation and Convert to Lower-case"
   ]
  },
  {
   "cell_type": "code",
   "execution_count": 20,
   "metadata": {
    "colab": {
     "base_uri": "https://localhost:8080/",
     "height": 35
    },
    "id": "zCi8e3hUnklc",
    "outputId": "ca459e6e-1f25-4a00-8c62-b40069dbd4c6"
   },
   "outputs": [
    {
     "data": {
      "text/plain": [
       "'!\"#$%&\\'()*+,-./:;<=>?@[\\\\]^_`{|}~'"
      ]
     },
     "execution_count": 20,
     "metadata": {},
     "output_type": "execute_result"
    }
   ],
   "source": [
    "string.punctuation"
   ]
  },
  {
   "cell_type": "code",
   "execution_count": 21,
   "metadata": {
    "id": "2I2p0qN3nknJ"
   },
   "outputs": [],
   "source": [
    "def text_clean(text):\n",
    "    text = text.lower()\n",
    "    text = re.sub('\\[.*?\\]', '', text)\n",
    "    text = re.sub('[%s]' % re.escape(string.punctuation), '', text)\n",
    "    text = re.sub('\\w*\\d\\w*', '', text)\n",
    "    text = re.sub('[''\"\"…]', '', text)\n",
    "    text = re.sub('\\n', '', text)\n",
    "    text= text.strip()\n",
    "\n",
    "    return text\n",
    "\n",
    "cleaned = lambda x: text_clean(x)"
   ]
  },
  {
   "cell_type": "code",
   "execution_count": 22,
   "metadata": {
    "colab": {
     "base_uri": "https://localhost:8080/",
     "height": 363
    },
    "id": "3ORHSJOfnksG",
    "outputId": "f34d9f62-3a24-4805-d8fe-23135f1f7f20"
   },
   "outputs": [
    {
     "data": {
      "text/html": [
       "<div>\n",
       "<style scoped>\n",
       "    .dataframe tbody tr th:only-of-type {\n",
       "        vertical-align: middle;\n",
       "    }\n",
       "\n",
       "    .dataframe tbody tr th {\n",
       "        vertical-align: top;\n",
       "    }\n",
       "\n",
       "    .dataframe thead th {\n",
       "        text-align: right;\n",
       "    }\n",
       "</style>\n",
       "<table border=\"1\" class=\"dataframe\">\n",
       "  <thead>\n",
       "    <tr style=\"text-align: right;\">\n",
       "      <th></th>\n",
       "      <th>Review_Text</th>\n",
       "      <th>Recommended_IND</th>\n",
       "      <th>New_Review_Text</th>\n",
       "    </tr>\n",
       "  </thead>\n",
       "  <tbody>\n",
       "    <tr>\n",
       "      <th>0</th>\n",
       "      <td>Absolutely wonderful - silky and sexy and comf...</td>\n",
       "      <td>1</td>\n",
       "      <td>absolutely wonderful  silky and sexy and comfo...</td>\n",
       "    </tr>\n",
       "    <tr>\n",
       "      <th>1</th>\n",
       "      <td>Love this dress!  it's sooo pretty.  i happene...</td>\n",
       "      <td>1</td>\n",
       "      <td>love this dress  its sooo pretty  i happened t...</td>\n",
       "    </tr>\n",
       "    <tr>\n",
       "      <th>2</th>\n",
       "      <td>I had such high hopes for this dress and reall...</td>\n",
       "      <td>0</td>\n",
       "      <td>i had such high hopes for this dress and reall...</td>\n",
       "    </tr>\n",
       "    <tr>\n",
       "      <th>3</th>\n",
       "      <td>I love, love, love this jumpsuit. it's fun, fl...</td>\n",
       "      <td>1</td>\n",
       "      <td>i love love love this jumpsuit its fun flirty ...</td>\n",
       "    </tr>\n",
       "    <tr>\n",
       "      <th>4</th>\n",
       "      <td>This shirt is very flattering to all due to th...</td>\n",
       "      <td>1</td>\n",
       "      <td>this shirt is very flattering to all due to th...</td>\n",
       "    </tr>\n",
       "    <tr>\n",
       "      <th>5</th>\n",
       "      <td>I love tracy reese dresses, but this one is no...</td>\n",
       "      <td>0</td>\n",
       "      <td>i love tracy reese dresses but this one is not...</td>\n",
       "    </tr>\n",
       "    <tr>\n",
       "      <th>6</th>\n",
       "      <td>I aded this in my basket at hte last mintue to...</td>\n",
       "      <td>1</td>\n",
       "      <td>i aded this in my basket at hte last mintue to...</td>\n",
       "    </tr>\n",
       "    <tr>\n",
       "      <th>7</th>\n",
       "      <td>I ordered this in carbon for store pick up, an...</td>\n",
       "      <td>1</td>\n",
       "      <td>i ordered this in carbon for store pick up and...</td>\n",
       "    </tr>\n",
       "    <tr>\n",
       "      <th>8</th>\n",
       "      <td>I love this dress. i usually get an xs but it ...</td>\n",
       "      <td>1</td>\n",
       "      <td>i love this dress i usually get an xs but it r...</td>\n",
       "    </tr>\n",
       "    <tr>\n",
       "      <th>9</th>\n",
       "      <td>I'm 5\"5' and 125 lbs. i ordered the s petite t...</td>\n",
       "      <td>1</td>\n",
       "      <td>im  and  lbs i ordered the s petite to make su...</td>\n",
       "    </tr>\n",
       "  </tbody>\n",
       "</table>\n",
       "</div>"
      ],
      "text/plain": [
       "                                         Review_Text  Recommended_IND  \\\n",
       "0  Absolutely wonderful - silky and sexy and comf...                1   \n",
       "1  Love this dress!  it's sooo pretty.  i happene...                1   \n",
       "2  I had such high hopes for this dress and reall...                0   \n",
       "3  I love, love, love this jumpsuit. it's fun, fl...                1   \n",
       "4  This shirt is very flattering to all due to th...                1   \n",
       "5  I love tracy reese dresses, but this one is no...                0   \n",
       "6  I aded this in my basket at hte last mintue to...                1   \n",
       "7  I ordered this in carbon for store pick up, an...                1   \n",
       "8  I love this dress. i usually get an xs but it ...                1   \n",
       "9  I'm 5\"5' and 125 lbs. i ordered the s petite t...                1   \n",
       "\n",
       "                                     New_Review_Text  \n",
       "0  absolutely wonderful  silky and sexy and comfo...  \n",
       "1  love this dress  its sooo pretty  i happened t...  \n",
       "2  i had such high hopes for this dress and reall...  \n",
       "3  i love love love this jumpsuit its fun flirty ...  \n",
       "4  this shirt is very flattering to all due to th...  \n",
       "5  i love tracy reese dresses but this one is not...  \n",
       "6  i aded this in my basket at hte last mintue to...  \n",
       "7  i ordered this in carbon for store pick up and...  \n",
       "8  i love this dress i usually get an xs but it r...  \n",
       "9  im  and  lbs i ordered the s petite to make su...  "
      ]
     },
     "execution_count": 22,
     "metadata": {},
     "output_type": "execute_result"
    }
   ],
   "source": [
    "df['New_Review_Text'] = df['Review_Text'].apply(cleaned)\n",
    "df.head(10)"
   ]
  },
  {
   "cell_type": "markdown",
   "metadata": {
    "id": "3WQdhdSbrx86"
   },
   "source": [
    "## NLTK Tokenisation"
   ]
  },
  {
   "cell_type": "code",
   "execution_count": 23,
   "metadata": {
    "id": "R5ri5Q3AqUTT"
   },
   "outputs": [],
   "source": [
    "def tokens(text):\n",
    "    tokens = nltk.word_tokenize(str(text))\n",
    "    # take only words (not punctuation)\n",
    "    token_words = [w for w in tokens if w.isalpha()]\n",
    "    return token_words\n",
    "\n",
    "cleaned1 = lambda x: tokens(x)"
   ]
  },
  {
   "cell_type": "code",
   "execution_count": 24,
   "metadata": {
    "colab": {
     "base_uri": "https://localhost:8080/",
     "height": 363
    },
    "id": "dk1J3JHnqUVe",
    "outputId": "46b14103-33cf-4068-f35a-17ff13c37bcc"
   },
   "outputs": [
    {
     "data": {
      "text/html": [
       "<div>\n",
       "<style scoped>\n",
       "    .dataframe tbody tr th:only-of-type {\n",
       "        vertical-align: middle;\n",
       "    }\n",
       "\n",
       "    .dataframe tbody tr th {\n",
       "        vertical-align: top;\n",
       "    }\n",
       "\n",
       "    .dataframe thead th {\n",
       "        text-align: right;\n",
       "    }\n",
       "</style>\n",
       "<table border=\"1\" class=\"dataframe\">\n",
       "  <thead>\n",
       "    <tr style=\"text-align: right;\">\n",
       "      <th></th>\n",
       "      <th>Review_Text</th>\n",
       "      <th>Recommended_IND</th>\n",
       "      <th>New_Review_Text</th>\n",
       "    </tr>\n",
       "  </thead>\n",
       "  <tbody>\n",
       "    <tr>\n",
       "      <th>0</th>\n",
       "      <td>Absolutely wonderful - silky and sexy and comf...</td>\n",
       "      <td>1</td>\n",
       "      <td>[absolutely, wonderful, silky, and, sexy, and,...</td>\n",
       "    </tr>\n",
       "    <tr>\n",
       "      <th>1</th>\n",
       "      <td>Love this dress!  it's sooo pretty.  i happene...</td>\n",
       "      <td>1</td>\n",
       "      <td>[love, this, dress, its, sooo, pretty, i, happ...</td>\n",
       "    </tr>\n",
       "    <tr>\n",
       "      <th>2</th>\n",
       "      <td>I had such high hopes for this dress and reall...</td>\n",
       "      <td>0</td>\n",
       "      <td>[i, had, such, high, hopes, for, this, dress, ...</td>\n",
       "    </tr>\n",
       "    <tr>\n",
       "      <th>3</th>\n",
       "      <td>I love, love, love this jumpsuit. it's fun, fl...</td>\n",
       "      <td>1</td>\n",
       "      <td>[i, love, love, love, this, jumpsuit, its, fun...</td>\n",
       "    </tr>\n",
       "    <tr>\n",
       "      <th>4</th>\n",
       "      <td>This shirt is very flattering to all due to th...</td>\n",
       "      <td>1</td>\n",
       "      <td>[this, shirt, is, very, flattering, to, all, d...</td>\n",
       "    </tr>\n",
       "    <tr>\n",
       "      <th>5</th>\n",
       "      <td>I love tracy reese dresses, but this one is no...</td>\n",
       "      <td>0</td>\n",
       "      <td>[i, love, tracy, reese, dresses, but, this, on...</td>\n",
       "    </tr>\n",
       "    <tr>\n",
       "      <th>6</th>\n",
       "      <td>I aded this in my basket at hte last mintue to...</td>\n",
       "      <td>1</td>\n",
       "      <td>[i, aded, this, in, my, basket, at, hte, last,...</td>\n",
       "    </tr>\n",
       "    <tr>\n",
       "      <th>7</th>\n",
       "      <td>I ordered this in carbon for store pick up, an...</td>\n",
       "      <td>1</td>\n",
       "      <td>[i, ordered, this, in, carbon, for, store, pic...</td>\n",
       "    </tr>\n",
       "    <tr>\n",
       "      <th>8</th>\n",
       "      <td>I love this dress. i usually get an xs but it ...</td>\n",
       "      <td>1</td>\n",
       "      <td>[i, love, this, dress, i, usually, get, an, xs...</td>\n",
       "    </tr>\n",
       "    <tr>\n",
       "      <th>9</th>\n",
       "      <td>I'm 5\"5' and 125 lbs. i ordered the s petite t...</td>\n",
       "      <td>1</td>\n",
       "      <td>[im, and, lbs, i, ordered, the, s, petite, to,...</td>\n",
       "    </tr>\n",
       "  </tbody>\n",
       "</table>\n",
       "</div>"
      ],
      "text/plain": [
       "                                         Review_Text  Recommended_IND  \\\n",
       "0  Absolutely wonderful - silky and sexy and comf...                1   \n",
       "1  Love this dress!  it's sooo pretty.  i happene...                1   \n",
       "2  I had such high hopes for this dress and reall...                0   \n",
       "3  I love, love, love this jumpsuit. it's fun, fl...                1   \n",
       "4  This shirt is very flattering to all due to th...                1   \n",
       "5  I love tracy reese dresses, but this one is no...                0   \n",
       "6  I aded this in my basket at hte last mintue to...                1   \n",
       "7  I ordered this in carbon for store pick up, an...                1   \n",
       "8  I love this dress. i usually get an xs but it ...                1   \n",
       "9  I'm 5\"5' and 125 lbs. i ordered the s petite t...                1   \n",
       "\n",
       "                                     New_Review_Text  \n",
       "0  [absolutely, wonderful, silky, and, sexy, and,...  \n",
       "1  [love, this, dress, its, sooo, pretty, i, happ...  \n",
       "2  [i, had, such, high, hopes, for, this, dress, ...  \n",
       "3  [i, love, love, love, this, jumpsuit, its, fun...  \n",
       "4  [this, shirt, is, very, flattering, to, all, d...  \n",
       "5  [i, love, tracy, reese, dresses, but, this, on...  \n",
       "6  [i, aded, this, in, my, basket, at, hte, last,...  \n",
       "7  [i, ordered, this, in, carbon, for, store, pic...  \n",
       "8  [i, love, this, dress, i, usually, get, an, xs...  \n",
       "9  [im, and, lbs, i, ordered, the, s, petite, to,...  "
      ]
     },
     "execution_count": 24,
     "metadata": {},
     "output_type": "execute_result"
    }
   ],
   "source": [
    "df['New_Review_Text'] = df['New_Review_Text'].apply(cleaned1)\n",
    "df.head(10)"
   ]
  },
  {
   "cell_type": "markdown",
   "metadata": {
    "id": "6Q-j5EkjsfkI"
   },
   "source": [
    "## Remove Stopwords"
   ]
  },
  {
   "cell_type": "code",
   "execution_count": 25,
   "metadata": {
    "id": "Jo_EqAZUqUZY"
   },
   "outputs": [],
   "source": [
    "stop_words = set(stopwords.words('english'))\n",
    "\n",
    "def remove_stopwords(text):\n",
    "  remove = [w for w in text if w not in stop_words]\n",
    "  return remove\n",
    "\n",
    "cleaned2 = lambda x: remove_stopwords(x)"
   ]
  },
  {
   "cell_type": "code",
   "execution_count": 26,
   "metadata": {
    "colab": {
     "base_uri": "https://localhost:8080/",
     "height": 363
    },
    "id": "ChdkS8RoqUdv",
    "outputId": "8413ee63-1bd0-48ec-8e51-68023a31e8e5"
   },
   "outputs": [
    {
     "data": {
      "text/html": [
       "<div>\n",
       "<style scoped>\n",
       "    .dataframe tbody tr th:only-of-type {\n",
       "        vertical-align: middle;\n",
       "    }\n",
       "\n",
       "    .dataframe tbody tr th {\n",
       "        vertical-align: top;\n",
       "    }\n",
       "\n",
       "    .dataframe thead th {\n",
       "        text-align: right;\n",
       "    }\n",
       "</style>\n",
       "<table border=\"1\" class=\"dataframe\">\n",
       "  <thead>\n",
       "    <tr style=\"text-align: right;\">\n",
       "      <th></th>\n",
       "      <th>Review_Text</th>\n",
       "      <th>Recommended_IND</th>\n",
       "      <th>New_Review_Text</th>\n",
       "    </tr>\n",
       "  </thead>\n",
       "  <tbody>\n",
       "    <tr>\n",
       "      <th>0</th>\n",
       "      <td>Absolutely wonderful - silky and sexy and comf...</td>\n",
       "      <td>1</td>\n",
       "      <td>[absolutely, wonderful, silky, sexy, comfortable]</td>\n",
       "    </tr>\n",
       "    <tr>\n",
       "      <th>1</th>\n",
       "      <td>Love this dress!  it's sooo pretty.  i happene...</td>\n",
       "      <td>1</td>\n",
       "      <td>[love, dress, sooo, pretty, happened, find, st...</td>\n",
       "    </tr>\n",
       "    <tr>\n",
       "      <th>2</th>\n",
       "      <td>I had such high hopes for this dress and reall...</td>\n",
       "      <td>0</td>\n",
       "      <td>[high, hopes, dress, really, wanted, work, ini...</td>\n",
       "    </tr>\n",
       "    <tr>\n",
       "      <th>3</th>\n",
       "      <td>I love, love, love this jumpsuit. it's fun, fl...</td>\n",
       "      <td>1</td>\n",
       "      <td>[love, love, love, jumpsuit, fun, flirty, fabu...</td>\n",
       "    </tr>\n",
       "    <tr>\n",
       "      <th>4</th>\n",
       "      <td>This shirt is very flattering to all due to th...</td>\n",
       "      <td>1</td>\n",
       "      <td>[shirt, flattering, due, adjustable, front, ti...</td>\n",
       "    </tr>\n",
       "    <tr>\n",
       "      <th>5</th>\n",
       "      <td>I love tracy reese dresses, but this one is no...</td>\n",
       "      <td>0</td>\n",
       "      <td>[love, tracy, reese, dresses, one, petite, fee...</td>\n",
       "    </tr>\n",
       "    <tr>\n",
       "      <th>6</th>\n",
       "      <td>I aded this in my basket at hte last mintue to...</td>\n",
       "      <td>1</td>\n",
       "      <td>[aded, basket, hte, last, mintue, see, would, ...</td>\n",
       "    </tr>\n",
       "    <tr>\n",
       "      <th>7</th>\n",
       "      <td>I ordered this in carbon for store pick up, an...</td>\n",
       "      <td>1</td>\n",
       "      <td>[ordered, carbon, store, pick, ton, stuff, alw...</td>\n",
       "    </tr>\n",
       "    <tr>\n",
       "      <th>8</th>\n",
       "      <td>I love this dress. i usually get an xs but it ...</td>\n",
       "      <td>1</td>\n",
       "      <td>[love, dress, usually, get, xs, runs, little, ...</td>\n",
       "    </tr>\n",
       "    <tr>\n",
       "      <th>9</th>\n",
       "      <td>I'm 5\"5' and 125 lbs. i ordered the s petite t...</td>\n",
       "      <td>1</td>\n",
       "      <td>[im, lbs, ordered, petite, make, sure, length,...</td>\n",
       "    </tr>\n",
       "  </tbody>\n",
       "</table>\n",
       "</div>"
      ],
      "text/plain": [
       "                                         Review_Text  Recommended_IND  \\\n",
       "0  Absolutely wonderful - silky and sexy and comf...                1   \n",
       "1  Love this dress!  it's sooo pretty.  i happene...                1   \n",
       "2  I had such high hopes for this dress and reall...                0   \n",
       "3  I love, love, love this jumpsuit. it's fun, fl...                1   \n",
       "4  This shirt is very flattering to all due to th...                1   \n",
       "5  I love tracy reese dresses, but this one is no...                0   \n",
       "6  I aded this in my basket at hte last mintue to...                1   \n",
       "7  I ordered this in carbon for store pick up, an...                1   \n",
       "8  I love this dress. i usually get an xs but it ...                1   \n",
       "9  I'm 5\"5' and 125 lbs. i ordered the s petite t...                1   \n",
       "\n",
       "                                     New_Review_Text  \n",
       "0  [absolutely, wonderful, silky, sexy, comfortable]  \n",
       "1  [love, dress, sooo, pretty, happened, find, st...  \n",
       "2  [high, hopes, dress, really, wanted, work, ini...  \n",
       "3  [love, love, love, jumpsuit, fun, flirty, fabu...  \n",
       "4  [shirt, flattering, due, adjustable, front, ti...  \n",
       "5  [love, tracy, reese, dresses, one, petite, fee...  \n",
       "6  [aded, basket, hte, last, mintue, see, would, ...  \n",
       "7  [ordered, carbon, store, pick, ton, stuff, alw...  \n",
       "8  [love, dress, usually, get, xs, runs, little, ...  \n",
       "9  [im, lbs, ordered, petite, make, sure, length,...  "
      ]
     },
     "execution_count": 26,
     "metadata": {},
     "output_type": "execute_result"
    }
   ],
   "source": [
    "df['New_Review_Text'] = df['New_Review_Text'].apply(cleaned2)\n",
    "df.head(10)"
   ]
  },
  {
   "cell_type": "markdown",
   "metadata": {
    "id": "9d8jKAn7s-Q0"
   },
   "source": [
    "## Lemmetisation"
   ]
  },
  {
   "cell_type": "code",
   "execution_count": 27,
   "metadata": {
    "id": "0EwIvT79qUft"
   },
   "outputs": [],
   "source": [
    "# Lemmatize the verb\n",
    "def lem1(text):\n",
    "    wordnet = WordNetLemmatizer()\n",
    "    lemma_words = []\n",
    "    for w in text:\n",
    "      lemma_words.append(wordnet.lemmatize(w,'v'))\n",
    "\n",
    "    return lemma_words\n",
    "\n",
    "cleaned3 = lambda x: lem1(x)"
   ]
  },
  {
   "cell_type": "code",
   "execution_count": 28,
   "metadata": {
    "colab": {
     "base_uri": "https://localhost:8080/",
     "height": 363
    },
    "id": "XqD6J62lqUhx",
    "outputId": "7e88825b-974e-4ef0-d106-ad4048b614cd"
   },
   "outputs": [
    {
     "data": {
      "text/html": [
       "<div>\n",
       "<style scoped>\n",
       "    .dataframe tbody tr th:only-of-type {\n",
       "        vertical-align: middle;\n",
       "    }\n",
       "\n",
       "    .dataframe tbody tr th {\n",
       "        vertical-align: top;\n",
       "    }\n",
       "\n",
       "    .dataframe thead th {\n",
       "        text-align: right;\n",
       "    }\n",
       "</style>\n",
       "<table border=\"1\" class=\"dataframe\">\n",
       "  <thead>\n",
       "    <tr style=\"text-align: right;\">\n",
       "      <th></th>\n",
       "      <th>Review_Text</th>\n",
       "      <th>Recommended_IND</th>\n",
       "      <th>New_Review_Text</th>\n",
       "    </tr>\n",
       "  </thead>\n",
       "  <tbody>\n",
       "    <tr>\n",
       "      <th>0</th>\n",
       "      <td>Absolutely wonderful - silky and sexy and comf...</td>\n",
       "      <td>1</td>\n",
       "      <td>[absolutely, wonderful, silky, sexy, comfortable]</td>\n",
       "    </tr>\n",
       "    <tr>\n",
       "      <th>1</th>\n",
       "      <td>Love this dress!  it's sooo pretty.  i happene...</td>\n",
       "      <td>1</td>\n",
       "      <td>[love, dress, sooo, pretty, happen, find, stor...</td>\n",
       "    </tr>\n",
       "    <tr>\n",
       "      <th>2</th>\n",
       "      <td>I had such high hopes for this dress and reall...</td>\n",
       "      <td>0</td>\n",
       "      <td>[high, hop, dress, really, want, work, initial...</td>\n",
       "    </tr>\n",
       "    <tr>\n",
       "      <th>3</th>\n",
       "      <td>I love, love, love this jumpsuit. it's fun, fl...</td>\n",
       "      <td>1</td>\n",
       "      <td>[love, love, love, jumpsuit, fun, flirty, fabu...</td>\n",
       "    </tr>\n",
       "    <tr>\n",
       "      <th>4</th>\n",
       "      <td>This shirt is very flattering to all due to th...</td>\n",
       "      <td>1</td>\n",
       "      <td>[shirt, flatter, due, adjustable, front, tie, ...</td>\n",
       "    </tr>\n",
       "    <tr>\n",
       "      <th>5</th>\n",
       "      <td>I love tracy reese dresses, but this one is no...</td>\n",
       "      <td>0</td>\n",
       "      <td>[love, tracy, reese, dress, one, petite, feet,...</td>\n",
       "    </tr>\n",
       "    <tr>\n",
       "      <th>6</th>\n",
       "      <td>I aded this in my basket at hte last mintue to...</td>\n",
       "      <td>1</td>\n",
       "      <td>[aded, basket, hte, last, mintue, see, would, ...</td>\n",
       "    </tr>\n",
       "    <tr>\n",
       "      <th>7</th>\n",
       "      <td>I ordered this in carbon for store pick up, an...</td>\n",
       "      <td>1</td>\n",
       "      <td>[order, carbon, store, pick, ton, stuff, alway...</td>\n",
       "    </tr>\n",
       "    <tr>\n",
       "      <th>8</th>\n",
       "      <td>I love this dress. i usually get an xs but it ...</td>\n",
       "      <td>1</td>\n",
       "      <td>[love, dress, usually, get, xs, run, little, s...</td>\n",
       "    </tr>\n",
       "    <tr>\n",
       "      <th>9</th>\n",
       "      <td>I'm 5\"5' and 125 lbs. i ordered the s petite t...</td>\n",
       "      <td>1</td>\n",
       "      <td>[im, lbs, order, petite, make, sure, length, w...</td>\n",
       "    </tr>\n",
       "  </tbody>\n",
       "</table>\n",
       "</div>"
      ],
      "text/plain": [
       "                                         Review_Text  Recommended_IND  \\\n",
       "0  Absolutely wonderful - silky and sexy and comf...                1   \n",
       "1  Love this dress!  it's sooo pretty.  i happene...                1   \n",
       "2  I had such high hopes for this dress and reall...                0   \n",
       "3  I love, love, love this jumpsuit. it's fun, fl...                1   \n",
       "4  This shirt is very flattering to all due to th...                1   \n",
       "5  I love tracy reese dresses, but this one is no...                0   \n",
       "6  I aded this in my basket at hte last mintue to...                1   \n",
       "7  I ordered this in carbon for store pick up, an...                1   \n",
       "8  I love this dress. i usually get an xs but it ...                1   \n",
       "9  I'm 5\"5' and 125 lbs. i ordered the s petite t...                1   \n",
       "\n",
       "                                     New_Review_Text  \n",
       "0  [absolutely, wonderful, silky, sexy, comfortable]  \n",
       "1  [love, dress, sooo, pretty, happen, find, stor...  \n",
       "2  [high, hop, dress, really, want, work, initial...  \n",
       "3  [love, love, love, jumpsuit, fun, flirty, fabu...  \n",
       "4  [shirt, flatter, due, adjustable, front, tie, ...  \n",
       "5  [love, tracy, reese, dress, one, petite, feet,...  \n",
       "6  [aded, basket, hte, last, mintue, see, would, ...  \n",
       "7  [order, carbon, store, pick, ton, stuff, alway...  \n",
       "8  [love, dress, usually, get, xs, run, little, s...  \n",
       "9  [im, lbs, order, petite, make, sure, length, w...  "
      ]
     },
     "execution_count": 28,
     "metadata": {},
     "output_type": "execute_result"
    }
   ],
   "source": [
    "df['New_Review_Text'] = df['New_Review_Text'].apply(cleaned3)\n",
    "df.head(10)"
   ]
  },
  {
   "cell_type": "code",
   "execution_count": 29,
   "metadata": {
    "id": "6cXPsu_8qUnr"
   },
   "outputs": [],
   "source": [
    "# Lemmatize the nouns\n",
    "def lem2(text):\n",
    "    wordnet = WordNetLemmatizer()\n",
    "    lemma_words = []\n",
    "    for w in text:\n",
    "      lemma_words.append(wordnet.lemmatize(w,'n'))\n",
    "\n",
    "    return lemma_words\n",
    "\n",
    "cleaned4 = lambda x: lem2(x)"
   ]
  },
  {
   "cell_type": "code",
   "execution_count": 30,
   "metadata": {
    "colab": {
     "base_uri": "https://localhost:8080/",
     "height": 363
    },
    "id": "2U_uQQBSqUbw",
    "outputId": "589991e9-cdef-4c26-a949-cbcee85afe15"
   },
   "outputs": [
    {
     "data": {
      "text/html": [
       "<div>\n",
       "<style scoped>\n",
       "    .dataframe tbody tr th:only-of-type {\n",
       "        vertical-align: middle;\n",
       "    }\n",
       "\n",
       "    .dataframe tbody tr th {\n",
       "        vertical-align: top;\n",
       "    }\n",
       "\n",
       "    .dataframe thead th {\n",
       "        text-align: right;\n",
       "    }\n",
       "</style>\n",
       "<table border=\"1\" class=\"dataframe\">\n",
       "  <thead>\n",
       "    <tr style=\"text-align: right;\">\n",
       "      <th></th>\n",
       "      <th>Review_Text</th>\n",
       "      <th>Recommended_IND</th>\n",
       "      <th>New_Review_Text</th>\n",
       "    </tr>\n",
       "  </thead>\n",
       "  <tbody>\n",
       "    <tr>\n",
       "      <th>0</th>\n",
       "      <td>Absolutely wonderful - silky and sexy and comf...</td>\n",
       "      <td>1</td>\n",
       "      <td>[absolutely, wonderful, silky, sexy, comfortable]</td>\n",
       "    </tr>\n",
       "    <tr>\n",
       "      <th>1</th>\n",
       "      <td>Love this dress!  it's sooo pretty.  i happene...</td>\n",
       "      <td>1</td>\n",
       "      <td>[love, dress, sooo, pretty, happen, find, stor...</td>\n",
       "    </tr>\n",
       "    <tr>\n",
       "      <th>2</th>\n",
       "      <td>I had such high hopes for this dress and reall...</td>\n",
       "      <td>0</td>\n",
       "      <td>[high, hop, dress, really, want, work, initial...</td>\n",
       "    </tr>\n",
       "    <tr>\n",
       "      <th>3</th>\n",
       "      <td>I love, love, love this jumpsuit. it's fun, fl...</td>\n",
       "      <td>1</td>\n",
       "      <td>[love, love, love, jumpsuit, fun, flirty, fabu...</td>\n",
       "    </tr>\n",
       "    <tr>\n",
       "      <th>4</th>\n",
       "      <td>This shirt is very flattering to all due to th...</td>\n",
       "      <td>1</td>\n",
       "      <td>[shirt, flatter, due, adjustable, front, tie, ...</td>\n",
       "    </tr>\n",
       "    <tr>\n",
       "      <th>5</th>\n",
       "      <td>I love tracy reese dresses, but this one is no...</td>\n",
       "      <td>0</td>\n",
       "      <td>[love, tracy, reese, dress, one, petite, foot,...</td>\n",
       "    </tr>\n",
       "    <tr>\n",
       "      <th>6</th>\n",
       "      <td>I aded this in my basket at hte last mintue to...</td>\n",
       "      <td>1</td>\n",
       "      <td>[aded, basket, hte, last, mintue, see, would, ...</td>\n",
       "    </tr>\n",
       "    <tr>\n",
       "      <th>7</th>\n",
       "      <td>I ordered this in carbon for store pick up, an...</td>\n",
       "      <td>1</td>\n",
       "      <td>[order, carbon, store, pick, ton, stuff, alway...</td>\n",
       "    </tr>\n",
       "    <tr>\n",
       "      <th>8</th>\n",
       "      <td>I love this dress. i usually get an xs but it ...</td>\n",
       "      <td>1</td>\n",
       "      <td>[love, dress, usually, get, x, run, little, sn...</td>\n",
       "    </tr>\n",
       "    <tr>\n",
       "      <th>9</th>\n",
       "      <td>I'm 5\"5' and 125 lbs. i ordered the s petite t...</td>\n",
       "      <td>1</td>\n",
       "      <td>[im, lb, order, petite, make, sure, length, wa...</td>\n",
       "    </tr>\n",
       "  </tbody>\n",
       "</table>\n",
       "</div>"
      ],
      "text/plain": [
       "                                         Review_Text  Recommended_IND  \\\n",
       "0  Absolutely wonderful - silky and sexy and comf...                1   \n",
       "1  Love this dress!  it's sooo pretty.  i happene...                1   \n",
       "2  I had such high hopes for this dress and reall...                0   \n",
       "3  I love, love, love this jumpsuit. it's fun, fl...                1   \n",
       "4  This shirt is very flattering to all due to th...                1   \n",
       "5  I love tracy reese dresses, but this one is no...                0   \n",
       "6  I aded this in my basket at hte last mintue to...                1   \n",
       "7  I ordered this in carbon for store pick up, an...                1   \n",
       "8  I love this dress. i usually get an xs but it ...                1   \n",
       "9  I'm 5\"5' and 125 lbs. i ordered the s petite t...                1   \n",
       "\n",
       "                                     New_Review_Text  \n",
       "0  [absolutely, wonderful, silky, sexy, comfortable]  \n",
       "1  [love, dress, sooo, pretty, happen, find, stor...  \n",
       "2  [high, hop, dress, really, want, work, initial...  \n",
       "3  [love, love, love, jumpsuit, fun, flirty, fabu...  \n",
       "4  [shirt, flatter, due, adjustable, front, tie, ...  \n",
       "5  [love, tracy, reese, dress, one, petite, foot,...  \n",
       "6  [aded, basket, hte, last, mintue, see, would, ...  \n",
       "7  [order, carbon, store, pick, ton, stuff, alway...  \n",
       "8  [love, dress, usually, get, x, run, little, sn...  \n",
       "9  [im, lb, order, petite, make, sure, length, wa...  "
      ]
     },
     "execution_count": 30,
     "metadata": {},
     "output_type": "execute_result"
    }
   ],
   "source": [
    "df['New_Review_Text'] = df['New_Review_Text'].apply(cleaned4)\n",
    "df.head(10)"
   ]
  },
  {
   "cell_type": "markdown",
   "metadata": {
    "id": "8evvyMlxuQGL"
   },
   "source": [
    "## Remove Non-English Words"
   ]
  },
  {
   "cell_type": "code",
   "execution_count": 31,
   "metadata": {
    "id": "p50xEhVKqUYQ"
   },
   "outputs": [],
   "source": [
    "dictionary = enchant.Dict(\"en_US\")\n",
    "\n",
    "def remove_non_english(text):\n",
    "  remove = []\n",
    "  for w in text:\n",
    "    if dictionary.check(w):\n",
    "      remove.append(w)\n",
    "\n",
    "  return remove\n",
    "\n",
    "cleaned5 = lambda x: remove_non_english(x)"
   ]
  },
  {
   "cell_type": "code",
   "execution_count": 32,
   "metadata": {
    "colab": {
     "base_uri": "https://localhost:8080/",
     "height": 363
    },
    "id": "CHF7-I8zt5HI",
    "outputId": "232838fc-dc10-4c97-b4f8-fbdadeb432b7"
   },
   "outputs": [
    {
     "data": {
      "text/html": [
       "<div>\n",
       "<style scoped>\n",
       "    .dataframe tbody tr th:only-of-type {\n",
       "        vertical-align: middle;\n",
       "    }\n",
       "\n",
       "    .dataframe tbody tr th {\n",
       "        vertical-align: top;\n",
       "    }\n",
       "\n",
       "    .dataframe thead th {\n",
       "        text-align: right;\n",
       "    }\n",
       "</style>\n",
       "<table border=\"1\" class=\"dataframe\">\n",
       "  <thead>\n",
       "    <tr style=\"text-align: right;\">\n",
       "      <th></th>\n",
       "      <th>Review_Text</th>\n",
       "      <th>Recommended_IND</th>\n",
       "      <th>New_Review_Text</th>\n",
       "    </tr>\n",
       "  </thead>\n",
       "  <tbody>\n",
       "    <tr>\n",
       "      <th>0</th>\n",
       "      <td>Absolutely wonderful - silky and sexy and comf...</td>\n",
       "      <td>1</td>\n",
       "      <td>[absolutely, wonderful, silky, sexy, comfortable]</td>\n",
       "    </tr>\n",
       "    <tr>\n",
       "      <th>1</th>\n",
       "      <td>Love this dress!  it's sooo pretty.  i happene...</td>\n",
       "      <td>1</td>\n",
       "      <td>[love, dress, pretty, happen, find, store, gla...</td>\n",
       "    </tr>\n",
       "    <tr>\n",
       "      <th>2</th>\n",
       "      <td>I had such high hopes for this dress and reall...</td>\n",
       "      <td>0</td>\n",
       "      <td>[high, hop, dress, really, want, work, initial...</td>\n",
       "    </tr>\n",
       "    <tr>\n",
       "      <th>3</th>\n",
       "      <td>I love, love, love this jumpsuit. it's fun, fl...</td>\n",
       "      <td>1</td>\n",
       "      <td>[love, love, love, jumpsuit, fun, flirty, fabu...</td>\n",
       "    </tr>\n",
       "    <tr>\n",
       "      <th>4</th>\n",
       "      <td>This shirt is very flattering to all due to th...</td>\n",
       "      <td>1</td>\n",
       "      <td>[shirt, flatter, due, adjustable, front, tie, ...</td>\n",
       "    </tr>\n",
       "    <tr>\n",
       "      <th>5</th>\n",
       "      <td>I love tracy reese dresses, but this one is no...</td>\n",
       "      <td>0</td>\n",
       "      <td>[love, dress, one, petite, foot, tall, usually...</td>\n",
       "    </tr>\n",
       "    <tr>\n",
       "      <th>6</th>\n",
       "      <td>I aded this in my basket at hte last mintue to...</td>\n",
       "      <td>1</td>\n",
       "      <td>[basket, last, see, would, look, like, person,...</td>\n",
       "    </tr>\n",
       "    <tr>\n",
       "      <th>7</th>\n",
       "      <td>I ordered this in carbon for store pick up, an...</td>\n",
       "      <td>1</td>\n",
       "      <td>[order, carbon, store, pick, ton, stuff, alway...</td>\n",
       "    </tr>\n",
       "    <tr>\n",
       "      <th>8</th>\n",
       "      <td>I love this dress. i usually get an xs but it ...</td>\n",
       "      <td>1</td>\n",
       "      <td>[love, dress, usually, get, x, run, little, sn...</td>\n",
       "    </tr>\n",
       "    <tr>\n",
       "      <th>9</th>\n",
       "      <td>I'm 5\"5' and 125 lbs. i ordered the s petite t...</td>\n",
       "      <td>1</td>\n",
       "      <td>[lb, order, petite, make, sure, length, long, ...</td>\n",
       "    </tr>\n",
       "  </tbody>\n",
       "</table>\n",
       "</div>"
      ],
      "text/plain": [
       "                                         Review_Text  Recommended_IND  \\\n",
       "0  Absolutely wonderful - silky and sexy and comf...                1   \n",
       "1  Love this dress!  it's sooo pretty.  i happene...                1   \n",
       "2  I had such high hopes for this dress and reall...                0   \n",
       "3  I love, love, love this jumpsuit. it's fun, fl...                1   \n",
       "4  This shirt is very flattering to all due to th...                1   \n",
       "5  I love tracy reese dresses, but this one is no...                0   \n",
       "6  I aded this in my basket at hte last mintue to...                1   \n",
       "7  I ordered this in carbon for store pick up, an...                1   \n",
       "8  I love this dress. i usually get an xs but it ...                1   \n",
       "9  I'm 5\"5' and 125 lbs. i ordered the s petite t...                1   \n",
       "\n",
       "                                     New_Review_Text  \n",
       "0  [absolutely, wonderful, silky, sexy, comfortable]  \n",
       "1  [love, dress, pretty, happen, find, store, gla...  \n",
       "2  [high, hop, dress, really, want, work, initial...  \n",
       "3  [love, love, love, jumpsuit, fun, flirty, fabu...  \n",
       "4  [shirt, flatter, due, adjustable, front, tie, ...  \n",
       "5  [love, dress, one, petite, foot, tall, usually...  \n",
       "6  [basket, last, see, would, look, like, person,...  \n",
       "7  [order, carbon, store, pick, ton, stuff, alway...  \n",
       "8  [love, dress, usually, get, x, run, little, sn...  \n",
       "9  [lb, order, petite, make, sure, length, long, ...  "
      ]
     },
     "execution_count": 32,
     "metadata": {},
     "output_type": "execute_result"
    }
   ],
   "source": [
    "df['New_Review_Text'] = df['New_Review_Text'].apply(cleaned5)\n",
    "df.head(10)"
   ]
  },
  {
   "cell_type": "code",
   "execution_count": 33,
   "metadata": {
    "colab": {
     "base_uri": "https://localhost:8080/"
    },
    "id": "oMhPA0nxt5Rp",
    "outputId": "996b2fb4-dd72-4db6-eef6-d450a8ee487c"
   },
   "outputs": [
    {
     "data": {
      "text/plain": [
       "(22641, 3)"
      ]
     },
     "execution_count": 33,
     "metadata": {},
     "output_type": "execute_result"
    }
   ],
   "source": [
    "df.shape"
   ]
  },
  {
   "cell_type": "markdown",
   "metadata": {
    "id": "ETMx8QsykH_C"
   },
   "source": [
    "## Join Words"
   ]
  },
  {
   "cell_type": "code",
   "execution_count": 34,
   "metadata": {
    "id": "gJTHGn2fkKyM"
   },
   "outputs": [],
   "source": [
    "sentences = []\n",
    "for row in df['New_Review_Text']:\n",
    "    sentence = ' '.join(row)\n",
    "    sentences.append(sentence)\n",
    "    "
   ]
  },
  {
   "cell_type": "code",
   "execution_count": 35,
   "metadata": {
    "colab": {
     "base_uri": "https://localhost:8080/",
     "height": 363
    },
    "id": "P5uZYqrqkKK3",
    "outputId": "8d33b6bb-e6c0-404a-eee3-cd0c5e3adc16"
   },
   "outputs": [
    {
     "data": {
      "text/html": [
       "<div>\n",
       "<style scoped>\n",
       "    .dataframe tbody tr th:only-of-type {\n",
       "        vertical-align: middle;\n",
       "    }\n",
       "\n",
       "    .dataframe tbody tr th {\n",
       "        vertical-align: top;\n",
       "    }\n",
       "\n",
       "    .dataframe thead th {\n",
       "        text-align: right;\n",
       "    }\n",
       "</style>\n",
       "<table border=\"1\" class=\"dataframe\">\n",
       "  <thead>\n",
       "    <tr style=\"text-align: right;\">\n",
       "      <th></th>\n",
       "      <th>Review_Text</th>\n",
       "      <th>Recommended_IND</th>\n",
       "      <th>New_Review_Text</th>\n",
       "    </tr>\n",
       "  </thead>\n",
       "  <tbody>\n",
       "    <tr>\n",
       "      <th>0</th>\n",
       "      <td>Absolutely wonderful - silky and sexy and comf...</td>\n",
       "      <td>1</td>\n",
       "      <td>absolutely wonderful silky sexy comfortable</td>\n",
       "    </tr>\n",
       "    <tr>\n",
       "      <th>1</th>\n",
       "      <td>Love this dress!  it's sooo pretty.  i happene...</td>\n",
       "      <td>1</td>\n",
       "      <td>love dress pretty happen find store glad never...</td>\n",
       "    </tr>\n",
       "    <tr>\n",
       "      <th>2</th>\n",
       "      <td>I had such high hopes for this dress and reall...</td>\n",
       "      <td>0</td>\n",
       "      <td>high hop dress really want work initially orde...</td>\n",
       "    </tr>\n",
       "    <tr>\n",
       "      <th>3</th>\n",
       "      <td>I love, love, love this jumpsuit. it's fun, fl...</td>\n",
       "      <td>1</td>\n",
       "      <td>love love love jumpsuit fun flirty fabulous ev...</td>\n",
       "    </tr>\n",
       "    <tr>\n",
       "      <th>4</th>\n",
       "      <td>This shirt is very flattering to all due to th...</td>\n",
       "      <td>1</td>\n",
       "      <td>shirt flatter due adjustable front tie perfect...</td>\n",
       "    </tr>\n",
       "    <tr>\n",
       "      <th>5</th>\n",
       "      <td>I love tracy reese dresses, but this one is no...</td>\n",
       "      <td>0</td>\n",
       "      <td>love dress one petite foot tall usually wear b...</td>\n",
       "    </tr>\n",
       "    <tr>\n",
       "      <th>6</th>\n",
       "      <td>I aded this in my basket at hte last mintue to...</td>\n",
       "      <td>1</td>\n",
       "      <td>basket last see would look like person store p...</td>\n",
       "    </tr>\n",
       "    <tr>\n",
       "      <th>7</th>\n",
       "      <td>I ordered this in carbon for store pick up, an...</td>\n",
       "      <td>1</td>\n",
       "      <td>order carbon store pick ton stuff always try u...</td>\n",
       "    </tr>\n",
       "    <tr>\n",
       "      <th>8</th>\n",
       "      <td>I love this dress. i usually get an xs but it ...</td>\n",
       "      <td>1</td>\n",
       "      <td>love dress usually get x run little snug bust ...</td>\n",
       "    </tr>\n",
       "    <tr>\n",
       "      <th>9</th>\n",
       "      <td>I'm 5\"5' and 125 lbs. i ordered the s petite t...</td>\n",
       "      <td>1</td>\n",
       "      <td>lb order petite make sure length long typicall...</td>\n",
       "    </tr>\n",
       "  </tbody>\n",
       "</table>\n",
       "</div>"
      ],
      "text/plain": [
       "                                         Review_Text  Recommended_IND  \\\n",
       "0  Absolutely wonderful - silky and sexy and comf...                1   \n",
       "1  Love this dress!  it's sooo pretty.  i happene...                1   \n",
       "2  I had such high hopes for this dress and reall...                0   \n",
       "3  I love, love, love this jumpsuit. it's fun, fl...                1   \n",
       "4  This shirt is very flattering to all due to th...                1   \n",
       "5  I love tracy reese dresses, but this one is no...                0   \n",
       "6  I aded this in my basket at hte last mintue to...                1   \n",
       "7  I ordered this in carbon for store pick up, an...                1   \n",
       "8  I love this dress. i usually get an xs but it ...                1   \n",
       "9  I'm 5\"5' and 125 lbs. i ordered the s petite t...                1   \n",
       "\n",
       "                                     New_Review_Text  \n",
       "0        absolutely wonderful silky sexy comfortable  \n",
       "1  love dress pretty happen find store glad never...  \n",
       "2  high hop dress really want work initially orde...  \n",
       "3  love love love jumpsuit fun flirty fabulous ev...  \n",
       "4  shirt flatter due adjustable front tie perfect...  \n",
       "5  love dress one petite foot tall usually wear b...  \n",
       "6  basket last see would look like person store p...  \n",
       "7  order carbon store pick ton stuff always try u...  \n",
       "8  love dress usually get x run little snug bust ...  \n",
       "9  lb order petite make sure length long typicall...  "
      ]
     },
     "execution_count": 35,
     "metadata": {},
     "output_type": "execute_result"
    }
   ],
   "source": [
    "# Update the sentences in the dataframe\n",
    "df['New_Review_Text'] = sentences\n",
    "df.head(10)"
   ]
  },
  {
   "cell_type": "markdown",
   "metadata": {
    "id": "xK8g7dXPkNwj"
   },
   "source": [
    "## Train Test Split"
   ]
  },
  {
   "cell_type": "code",
   "execution_count": 36,
   "metadata": {
    "id": "d1MVMchYkPoq"
   },
   "outputs": [],
   "source": [
    "X = df['New_Review_Text']\n",
    "y = df['Recommended_IND']"
   ]
  },
  {
   "cell_type": "code",
   "execution_count": 37,
   "metadata": {
    "id": "muMgMUDKDRae"
   },
   "outputs": [],
   "source": [
    "y = np.array(list(map(lambda x: 1 if x==1 else 0, y)))"
   ]
  },
  {
   "cell_type": "code",
   "execution_count": 38,
   "metadata": {
    "id": "cz3p7pKNkiGw"
   },
   "outputs": [],
   "source": [
    "X_train, X_test, y_train, y_test = train_test_split(X, y, test_size=0.2, random_state=42)"
   ]
  },
  {
   "cell_type": "code",
   "execution_count": 39,
   "metadata": {
    "colab": {
     "base_uri": "https://localhost:8080/"
    },
    "id": "5kn4ZYhBkjGk",
    "outputId": "387bcb74-0fa0-424b-d90c-569b52ce9e56"
   },
   "outputs": [
    {
     "name": "stdout",
     "output_type": "stream",
     "text": [
      "Training Shape:  (18112,)\n",
      "Testing Shape:  (4529,)\n"
     ]
    }
   ],
   "source": [
    "print(\"Training Shape: \",X_train.shape)\n",
    "print(\"Testing Shape: \",X_test.shape)"
   ]
  },
  {
   "cell_type": "markdown",
   "metadata": {
    "id": "FUy1rzDk5Cx0"
   },
   "source": [
    "# Modelling (ANN-based)"
   ]
  },
  {
   "cell_type": "markdown",
   "metadata": {
    "id": "iqpS6Af4EN-3"
   },
   "source": [
    "## RNN"
   ]
  },
  {
   "cell_type": "code",
   "execution_count": 40,
   "metadata": {
    "id": "fTYsvlSAqEI1"
   },
   "outputs": [
    {
     "name": "stderr",
     "output_type": "stream",
     "text": [
      "C:\\Users\\amins\\AppData\\Local\\Temp\\ipykernel_16316\\3590939632.py:17: DeprecationWarning: `import kerastuner` is deprecated, please use `import keras_tuner`.\n",
      "  from kerastuner.tuners import RandomSearch\n"
     ]
    }
   ],
   "source": [
    "from gensim.models import KeyedVectors\n",
    "\n",
    "from imblearn.over_sampling import SMOTE\n",
    "\n",
    "from sklearn.model_selection import GridSearchCV\n",
    "from sklearn.model_selection import RandomizedSearchCV\n",
    "\n",
    "from tensorflow import keras\n",
    "from tensorflow.keras import layers\n",
    "\n",
    "from keras.models import Sequential\n",
    "from keras.layers import LSTM, Dense, Dropout, SimpleRNN\n",
    "from keras.callbacks import EarlyStopping\n",
    "from keras.wrappers.scikit_learn import KerasClassifier\n",
    "from keras.optimizers import Adam\n",
    "\n",
    "from kerastuner.tuners import RandomSearch"
   ]
  },
  {
   "cell_type": "markdown",
   "metadata": {
    "id": "Ml0hP7lYmxdn"
   },
   "source": [
    "### Data Preparation"
   ]
  },
  {
   "cell_type": "markdown",
   "metadata": {
    "id": "4tuA4f4PeTfR"
   },
   "source": [
    "Feature Generation using Bag-of-words"
   ]
  },
  {
   "cell_type": "code",
   "execution_count": 41,
   "metadata": {
    "colab": {
     "base_uri": "https://localhost:8080/",
     "height": 487
    },
    "id": "YDqGTgUTd8Gb",
    "outputId": "e785bbe8-2e80-49ec-d39c-4f3b0e46b090"
   },
   "outputs": [
    {
     "data": {
      "text/html": [
       "<div>\n",
       "<style scoped>\n",
       "    .dataframe tbody tr th:only-of-type {\n",
       "        vertical-align: middle;\n",
       "    }\n",
       "\n",
       "    .dataframe tbody tr th {\n",
       "        vertical-align: top;\n",
       "    }\n",
       "\n",
       "    .dataframe thead th {\n",
       "        text-align: right;\n",
       "    }\n",
       "</style>\n",
       "<table border=\"1\" class=\"dataframe\">\n",
       "  <thead>\n",
       "    <tr style=\"text-align: right;\">\n",
       "      <th></th>\n",
       "      <th>aa</th>\n",
       "      <th>ab</th>\n",
       "      <th>abbey</th>\n",
       "      <th>abdomen</th>\n",
       "      <th>abdominal</th>\n",
       "      <th>abhor</th>\n",
       "      <th>ability</th>\n",
       "      <th>abject</th>\n",
       "      <th>able</th>\n",
       "      <th>abnormal</th>\n",
       "      <th>...</th>\n",
       "      <th>zed</th>\n",
       "      <th>zero</th>\n",
       "      <th>zig</th>\n",
       "      <th>zigzag</th>\n",
       "      <th>zillion</th>\n",
       "      <th>zip</th>\n",
       "      <th>zipper</th>\n",
       "      <th>zombie</th>\n",
       "      <th>zone</th>\n",
       "      <th>zoom</th>\n",
       "    </tr>\n",
       "  </thead>\n",
       "  <tbody>\n",
       "    <tr>\n",
       "      <th>0</th>\n",
       "      <td>0</td>\n",
       "      <td>0</td>\n",
       "      <td>0</td>\n",
       "      <td>0</td>\n",
       "      <td>0</td>\n",
       "      <td>0</td>\n",
       "      <td>0</td>\n",
       "      <td>0</td>\n",
       "      <td>0</td>\n",
       "      <td>0</td>\n",
       "      <td>...</td>\n",
       "      <td>0</td>\n",
       "      <td>0</td>\n",
       "      <td>0</td>\n",
       "      <td>0</td>\n",
       "      <td>0</td>\n",
       "      <td>0</td>\n",
       "      <td>0</td>\n",
       "      <td>0</td>\n",
       "      <td>0</td>\n",
       "      <td>0</td>\n",
       "    </tr>\n",
       "    <tr>\n",
       "      <th>1</th>\n",
       "      <td>0</td>\n",
       "      <td>0</td>\n",
       "      <td>0</td>\n",
       "      <td>0</td>\n",
       "      <td>0</td>\n",
       "      <td>0</td>\n",
       "      <td>0</td>\n",
       "      <td>0</td>\n",
       "      <td>0</td>\n",
       "      <td>0</td>\n",
       "      <td>...</td>\n",
       "      <td>0</td>\n",
       "      <td>0</td>\n",
       "      <td>0</td>\n",
       "      <td>0</td>\n",
       "      <td>0</td>\n",
       "      <td>0</td>\n",
       "      <td>0</td>\n",
       "      <td>0</td>\n",
       "      <td>0</td>\n",
       "      <td>0</td>\n",
       "    </tr>\n",
       "    <tr>\n",
       "      <th>2</th>\n",
       "      <td>0</td>\n",
       "      <td>0</td>\n",
       "      <td>0</td>\n",
       "      <td>0</td>\n",
       "      <td>0</td>\n",
       "      <td>0</td>\n",
       "      <td>0</td>\n",
       "      <td>0</td>\n",
       "      <td>0</td>\n",
       "      <td>0</td>\n",
       "      <td>...</td>\n",
       "      <td>0</td>\n",
       "      <td>0</td>\n",
       "      <td>0</td>\n",
       "      <td>0</td>\n",
       "      <td>0</td>\n",
       "      <td>1</td>\n",
       "      <td>1</td>\n",
       "      <td>0</td>\n",
       "      <td>0</td>\n",
       "      <td>0</td>\n",
       "    </tr>\n",
       "    <tr>\n",
       "      <th>3</th>\n",
       "      <td>0</td>\n",
       "      <td>0</td>\n",
       "      <td>0</td>\n",
       "      <td>0</td>\n",
       "      <td>0</td>\n",
       "      <td>0</td>\n",
       "      <td>0</td>\n",
       "      <td>0</td>\n",
       "      <td>0</td>\n",
       "      <td>0</td>\n",
       "      <td>...</td>\n",
       "      <td>0</td>\n",
       "      <td>0</td>\n",
       "      <td>0</td>\n",
       "      <td>0</td>\n",
       "      <td>0</td>\n",
       "      <td>0</td>\n",
       "      <td>0</td>\n",
       "      <td>0</td>\n",
       "      <td>0</td>\n",
       "      <td>0</td>\n",
       "    </tr>\n",
       "    <tr>\n",
       "      <th>4</th>\n",
       "      <td>0</td>\n",
       "      <td>0</td>\n",
       "      <td>0</td>\n",
       "      <td>0</td>\n",
       "      <td>0</td>\n",
       "      <td>0</td>\n",
       "      <td>0</td>\n",
       "      <td>0</td>\n",
       "      <td>0</td>\n",
       "      <td>0</td>\n",
       "      <td>...</td>\n",
       "      <td>0</td>\n",
       "      <td>0</td>\n",
       "      <td>0</td>\n",
       "      <td>0</td>\n",
       "      <td>0</td>\n",
       "      <td>0</td>\n",
       "      <td>0</td>\n",
       "      <td>0</td>\n",
       "      <td>0</td>\n",
       "      <td>0</td>\n",
       "    </tr>\n",
       "    <tr>\n",
       "      <th>...</th>\n",
       "      <td>...</td>\n",
       "      <td>...</td>\n",
       "      <td>...</td>\n",
       "      <td>...</td>\n",
       "      <td>...</td>\n",
       "      <td>...</td>\n",
       "      <td>...</td>\n",
       "      <td>...</td>\n",
       "      <td>...</td>\n",
       "      <td>...</td>\n",
       "      <td>...</td>\n",
       "      <td>...</td>\n",
       "      <td>...</td>\n",
       "      <td>...</td>\n",
       "      <td>...</td>\n",
       "      <td>...</td>\n",
       "      <td>...</td>\n",
       "      <td>...</td>\n",
       "      <td>...</td>\n",
       "      <td>...</td>\n",
       "      <td>...</td>\n",
       "    </tr>\n",
       "    <tr>\n",
       "      <th>22636</th>\n",
       "      <td>0</td>\n",
       "      <td>0</td>\n",
       "      <td>0</td>\n",
       "      <td>0</td>\n",
       "      <td>0</td>\n",
       "      <td>0</td>\n",
       "      <td>0</td>\n",
       "      <td>0</td>\n",
       "      <td>0</td>\n",
       "      <td>0</td>\n",
       "      <td>...</td>\n",
       "      <td>0</td>\n",
       "      <td>0</td>\n",
       "      <td>0</td>\n",
       "      <td>0</td>\n",
       "      <td>0</td>\n",
       "      <td>0</td>\n",
       "      <td>0</td>\n",
       "      <td>0</td>\n",
       "      <td>0</td>\n",
       "      <td>0</td>\n",
       "    </tr>\n",
       "    <tr>\n",
       "      <th>22637</th>\n",
       "      <td>0</td>\n",
       "      <td>0</td>\n",
       "      <td>0</td>\n",
       "      <td>0</td>\n",
       "      <td>0</td>\n",
       "      <td>0</td>\n",
       "      <td>0</td>\n",
       "      <td>0</td>\n",
       "      <td>0</td>\n",
       "      <td>0</td>\n",
       "      <td>...</td>\n",
       "      <td>0</td>\n",
       "      <td>0</td>\n",
       "      <td>0</td>\n",
       "      <td>0</td>\n",
       "      <td>0</td>\n",
       "      <td>0</td>\n",
       "      <td>0</td>\n",
       "      <td>0</td>\n",
       "      <td>0</td>\n",
       "      <td>0</td>\n",
       "    </tr>\n",
       "    <tr>\n",
       "      <th>22638</th>\n",
       "      <td>0</td>\n",
       "      <td>0</td>\n",
       "      <td>0</td>\n",
       "      <td>0</td>\n",
       "      <td>0</td>\n",
       "      <td>0</td>\n",
       "      <td>0</td>\n",
       "      <td>0</td>\n",
       "      <td>1</td>\n",
       "      <td>0</td>\n",
       "      <td>...</td>\n",
       "      <td>0</td>\n",
       "      <td>0</td>\n",
       "      <td>0</td>\n",
       "      <td>0</td>\n",
       "      <td>0</td>\n",
       "      <td>0</td>\n",
       "      <td>0</td>\n",
       "      <td>0</td>\n",
       "      <td>0</td>\n",
       "      <td>0</td>\n",
       "    </tr>\n",
       "    <tr>\n",
       "      <th>22639</th>\n",
       "      <td>0</td>\n",
       "      <td>0</td>\n",
       "      <td>0</td>\n",
       "      <td>0</td>\n",
       "      <td>0</td>\n",
       "      <td>0</td>\n",
       "      <td>0</td>\n",
       "      <td>0</td>\n",
       "      <td>0</td>\n",
       "      <td>0</td>\n",
       "      <td>...</td>\n",
       "      <td>0</td>\n",
       "      <td>0</td>\n",
       "      <td>0</td>\n",
       "      <td>0</td>\n",
       "      <td>0</td>\n",
       "      <td>0</td>\n",
       "      <td>0</td>\n",
       "      <td>0</td>\n",
       "      <td>0</td>\n",
       "      <td>0</td>\n",
       "    </tr>\n",
       "    <tr>\n",
       "      <th>22640</th>\n",
       "      <td>0</td>\n",
       "      <td>0</td>\n",
       "      <td>0</td>\n",
       "      <td>0</td>\n",
       "      <td>0</td>\n",
       "      <td>0</td>\n",
       "      <td>0</td>\n",
       "      <td>0</td>\n",
       "      <td>0</td>\n",
       "      <td>0</td>\n",
       "      <td>...</td>\n",
       "      <td>0</td>\n",
       "      <td>0</td>\n",
       "      <td>0</td>\n",
       "      <td>0</td>\n",
       "      <td>0</td>\n",
       "      <td>0</td>\n",
       "      <td>0</td>\n",
       "      <td>0</td>\n",
       "      <td>0</td>\n",
       "      <td>0</td>\n",
       "    </tr>\n",
       "  </tbody>\n",
       "</table>\n",
       "<p>22641 rows × 7204 columns</p>\n",
       "</div>"
      ],
      "text/plain": [
       "       aa  ab  abbey  abdomen  abdominal  abhor  ability  abject  able  \\\n",
       "0       0   0      0        0          0      0        0       0     0   \n",
       "1       0   0      0        0          0      0        0       0     0   \n",
       "2       0   0      0        0          0      0        0       0     0   \n",
       "3       0   0      0        0          0      0        0       0     0   \n",
       "4       0   0      0        0          0      0        0       0     0   \n",
       "...    ..  ..    ...      ...        ...    ...      ...     ...   ...   \n",
       "22636   0   0      0        0          0      0        0       0     0   \n",
       "22637   0   0      0        0          0      0        0       0     0   \n",
       "22638   0   0      0        0          0      0        0       0     1   \n",
       "22639   0   0      0        0          0      0        0       0     0   \n",
       "22640   0   0      0        0          0      0        0       0     0   \n",
       "\n",
       "       abnormal  ...  zed  zero  zig  zigzag  zillion  zip  zipper  zombie  \\\n",
       "0             0  ...    0     0    0       0        0    0       0       0   \n",
       "1             0  ...    0     0    0       0        0    0       0       0   \n",
       "2             0  ...    0     0    0       0        0    1       1       0   \n",
       "3             0  ...    0     0    0       0        0    0       0       0   \n",
       "4             0  ...    0     0    0       0        0    0       0       0   \n",
       "...         ...  ...  ...   ...  ...     ...      ...  ...     ...     ...   \n",
       "22636         0  ...    0     0    0       0        0    0       0       0   \n",
       "22637         0  ...    0     0    0       0        0    0       0       0   \n",
       "22638         0  ...    0     0    0       0        0    0       0       0   \n",
       "22639         0  ...    0     0    0       0        0    0       0       0   \n",
       "22640         0  ...    0     0    0       0        0    0       0       0   \n",
       "\n",
       "       zone  zoom  \n",
       "0         0     0  \n",
       "1         0     0  \n",
       "2         0     0  \n",
       "3         0     0  \n",
       "4         0     0  \n",
       "...     ...   ...  \n",
       "22636     0     0  \n",
       "22637     0     0  \n",
       "22638     0     0  \n",
       "22639     0     0  \n",
       "22640     0     0  \n",
       "\n",
       "[22641 rows x 7204 columns]"
      ]
     },
     "execution_count": 41,
     "metadata": {},
     "output_type": "execute_result"
    }
   ],
   "source": [
    "count_vectorizer = CountVectorizer()\n",
    "\n",
    "bag_of_words = count_vectorizer.fit_transform(df['New_Review_Text'])\n",
    "feature_names = count_vectorizer.get_feature_names_out()\n",
    "pd.DataFrame(bag_of_words.toarray(), columns = feature_names)"
   ]
  },
  {
   "cell_type": "markdown",
   "metadata": {
    "id": "bGAzT_BMeX5t"
   },
   "source": [
    "Spliting the data"
   ]
  },
  {
   "cell_type": "code",
   "execution_count": 42,
   "metadata": {
    "id": "sjWGXFgCeBqZ"
   },
   "outputs": [],
   "source": [
    "RNN_X = bag_of_words\n",
    "RNN_y = df['Recommended_IND']\n",
    "\n",
    "RNN_X_train, RNN_X_test, RNN_y_train, RNN_y_test = train_test_split(RNN_X, RNN_y, test_size=0.2, random_state=42)"
   ]
  },
  {
   "cell_type": "markdown",
   "metadata": {
    "id": "xoIRDb0Hedjj"
   },
   "source": [
    "SMOTE the data to to balance the number of occurence of a label"
   ]
  },
  {
   "cell_type": "code",
   "execution_count": 43,
   "metadata": {
    "id": "XciYXAAtdhDs"
   },
   "outputs": [],
   "source": [
    "sm = SMOTE(random_state=0)\n",
    "RNN_X_train, RNN_y_train = sm.fit_resample(RNN_X_train, RNN_y_train.ravel())\n"
   ]
  },
  {
   "cell_type": "markdown",
   "metadata": {
    "id": "XbDkYUbPe1ID"
   },
   "source": [
    "Converting the data to the right shape for the model"
   ]
  },
  {
   "cell_type": "code",
   "execution_count": 44,
   "metadata": {
    "id": "6PTPacHZDNVk"
   },
   "outputs": [],
   "source": [
    "RNN_X_train = np.reshape(RNN_X_train.toarray(), (RNN_X_train.shape[0], 1, RNN_X_train.shape[1]))\n",
    "RNN_X_test = np.reshape(RNN_X_test.toarray(), (RNN_X_test.shape[0], 1, RNN_X_test.shape[1]))"
   ]
  },
  {
   "cell_type": "markdown",
   "metadata": {
    "id": "GMvDpPo1fN94"
   },
   "source": [
    "Split the training set into training and validation sets"
   ]
  },
  {
   "cell_type": "code",
   "execution_count": null,
   "metadata": {
    "id": "cQfEjsj5fHqa"
   },
   "outputs": [],
   "source": [
    "RNN_X_train, RNN_X_val, RNN_y_train, RNN_y_val = train_test_split(RNN_X_train, RNN_y_train, test_size=0.1, random_state=42)"
   ]
  },
  {
   "cell_type": "markdown",
   "metadata": {
    "id": "MhIE1KybfksN"
   },
   "source": [
    "### Hyperparameter Tuning"
   ]
  },
  {
   "cell_type": "markdown",
   "metadata": {
    "id": "GdDdf4EPrBjr"
   },
   "source": [
    " Using Keras Tuner"
   ]
  },
  {
   "cell_type": "code",
   "execution_count": 45,
   "metadata": {
    "id": "OT-3BGI6fISL"
   },
   "outputs": [],
   "source": [
    "def RNN_build_model(hp):\n",
    "    model = Sequential()\n",
    "\n",
    "    hp_units = hp.Int('units', min_value=32, max_value=512, step=32)\n",
    "    hp_learning_rate = hp.Choice('learning_rate', values=[1e-2, 1e-3, 1e-4])\n",
    "    hp_momentum = hp.Float('momentum', min_value=0, max_value=1, step=0.1)\n",
    "    hp_activation = hp.Choice('activation', values=['relu', 'tanh', 'sigmoid'])\n",
    "\n",
    "    model.add(SimpleRNN(units=hp_units, activation=hp_activation, input_shape=(RNN_X_train.shape[1], RNN_X_train.shape[2])))\n",
    "\n",
    "    for i in range(hp.Int('num_layers', 1, 4)):\n",
    "        model.add(Dense(units=hp_units, activation=hp_activation))\n",
    "\n",
    "    model.add(Dense(1, activation='sigmoid'))\n",
    "\n",
    "    model.compile(optimizer=keras.optimizers.SGD(learning_rate=hp_learning_rate, momentum=hp_momentum),\n",
    "                  loss='binary_crossentropy',\n",
    "                  metrics=['accuracy'])\n",
    "\n",
    "    return model"
   ]
  },
  {
   "cell_type": "markdown",
   "metadata": {
    "id": "7HwqbhR_fljz"
   },
   "source": [
    "Applying random search method"
   ]
  },
  {
   "cell_type": "code",
   "execution_count": null,
   "metadata": {
    "id": "7qnnLXS2fIG5"
   },
   "outputs": [],
   "source": [
    "RNN_tuner = RandomSearch(\n",
    "    RNN_build_model,\n",
    "    objective='val_accuracy',\n",
    "    max_trials=50,\n",
    "    executions_per_trial=1,\n",
    "    directory='Tuning',\n",
    "    project_name='RNN_Hyper_Tuning')"
   ]
  },
  {
   "cell_type": "markdown",
   "metadata": {
    "id": "5xC9F10FfmVV"
   },
   "source": [
    "Hyperparameter Tuner Summary"
   ]
  },
  {
   "cell_type": "code",
   "execution_count": null,
   "metadata": {
    "colab": {
     "base_uri": "https://localhost:8080/"
    },
    "id": "_zkLTtV9Ejml",
    "outputId": "29614fa8-a509-495e-a37f-545238d91937"
   },
   "outputs": [],
   "source": [
    "RNN_tuner.search_space_summary()"
   ]
  },
  {
   "cell_type": "markdown",
   "metadata": {
    "id": "yq_98Suvfl8j"
   },
   "source": [
    "Search"
   ]
  },
  {
   "cell_type": "code",
   "execution_count": null,
   "metadata": {
    "colab": {
     "base_uri": "https://localhost:8080/",
     "height": 696
    },
    "id": "RzEkFJbFEjYA",
    "outputId": "0a4f5532-ba07-4c7f-f171-a231476a2e48"
   },
   "outputs": [],
   "source": [
    "RNN_tuner.search(RNN_X_train, RNN_y_train, epochs=3, validation_data=(RNN_X_val, RNN_y_val))"
   ]
  },
  {
   "cell_type": "markdown",
   "metadata": {
    "id": "_SpOexQRguxd"
   },
   "source": [
    "Get the Optimal Hyperparameters"
   ]
  },
  {
   "cell_type": "code",
   "execution_count": null,
   "metadata": {
    "colab": {
     "base_uri": "https://localhost:8080/"
    },
    "id": "Lho25ZURguiU",
    "outputId": "7ce9c2cf-3119-4ee8-b53f-01efcc402afd"
   },
   "outputs": [],
   "source": [
    "RNN_results = RNN_tuner.get_best_hyperparameters(num_trials=1)[0].values\n",
    "print('The hyperparameter search is complete. \\nThe optimal Parameters are:\\n')\n",
    "# Print the results\n",
    "for hyperparam in RNN_results:\n",
    "    print(f\"{hyperparam}: {RNN_results[hyperparam]}\")"
   ]
  },
  {
   "cell_type": "code",
   "execution_count": null,
   "metadata": {
    "colab": {
     "base_uri": "https://localhost:8080/",
     "height": 1000
    },
    "id": "S8MxeG5MS3T0",
    "outputId": "10ecc28b-f545-49e4-d5a1-7fcf3f8423c6"
   },
   "outputs": [],
   "source": [
    "# Get the trial information into a dataframe\n",
    "RNN_trials = RNN_tuner.oracle.trials\n",
    "RNN_trial_info = {t: RNN_trials[t].hyperparameters.values for t in RNN_trials}\n",
    "RNN_trial_info = pd.DataFrame(RNN_trial_info).T\n",
    "\n",
    "# Add score information to the dataframe\n",
    "RNN_trial_scores = {t: RNN_trials[t].score for t in RNN_trials}\n",
    "RNN_trial_info['score'] = RNN_trial_info.index.map(RNN_trial_scores)\n",
    "\n",
    "# Determine the number of rows and columns for subplots\n",
    "num_hyperparams = len(RNN_trial_info.columns) - 1\n",
    "num_rows = int((num_hyperparams + 1) / 2)\n",
    "num_cols = 2\n",
    "\n",
    "# Create a figure and axes for subplots\n",
    "fig, axes = plt.subplots(num_rows, num_cols, figsize=(12, 15))\n",
    "axes = axes.flatten()\n",
    "\n",
    "# For each hyperparameter\n",
    "for i, hyperparam in enumerate(RNN_trial_info.columns):\n",
    "    # Skip the score\n",
    "    if hyperparam == 'score':\n",
    "        continue\n",
    "\n",
    "    ax = axes[i]\n",
    "\n",
    "    # Check if the column is categorical\n",
    "    if RNN_trial_info[hyperparam].dtype == 'object':\n",
    "        # Create a box plot\n",
    "        sns.boxplot(data=RNN_trial_info, x=RNN_trial_info[hyperparam], y='score', ax=ax)\n",
    "        ax.set_xlabel(hyperparam)\n",
    "        ax.set_ylabel('Validation Accuracy')\n",
    "    else:\n",
    "        # Create a scatter plot\n",
    "        sns.scatterplot(data=RNN_trial_info, x=hyperparam, y='score', ax=ax, alpha=0.5)\n",
    "\n",
    "        # If the hyperparameter is learning_rate, use a log scale\n",
    "        if hyperparam == 'learning_rate':\n",
    "            ax.set_xscale('log')\n",
    "\n",
    "        # Add density estimation\n",
    "        sns.kdeplot(data=RNN_trial_info, x=hyperparam, y='score', ax=ax, cmap='viridis', shade=True)\n",
    "\n",
    "        ax.set_xlabel(hyperparam)\n",
    "        ax.set_ylabel('Validation Accuracy')\n",
    "\n",
    "    ax.set_title(f'Effect of {hyperparam} on Validation Accuracy')\n",
    "\n",
    "# Adjust the layout and spacing\n",
    "plt.tight_layout()\n",
    "\n",
    "plt.show()"
   ]
  },
  {
   "cell_type": "markdown",
   "metadata": {
    "id": "jeDCDjj4guKk"
   },
   "source": [
    "### Building the RNN model"
   ]
  },
  {
   "cell_type": "markdown",
   "metadata": {
    "id": "EmlnHUvr7WR0"
   },
   "source": [
    "Get the optimal hyperparameters"
   ]
  },
  {
   "cell_type": "code",
   "execution_count": null,
   "metadata": {
    "id": "zXBVlEEB7DVt"
   },
   "outputs": [],
   "source": [
    "RNN_best_hps = RNN_tuner.get_best_hyperparameters(num_trials=1)[0]"
   ]
  },
  {
   "cell_type": "markdown",
   "metadata": {
    "id": "baAVpFIpnOyf"
   },
   "source": [
    "Build the model with the optimal hyperparameters"
   ]
  },
  {
   "cell_type": "code",
   "execution_count": null,
   "metadata": {
    "id": "xRHrSpNagt7b"
   },
   "outputs": [],
   "source": [
    "RNN_model = RNN_tuner.hypermodel.build(RNN_best_hps)"
   ]
  },
  {
   "cell_type": "markdown",
   "metadata": {
    "id": "7a2L3wAsgtrU"
   },
   "source": [
    "Early stopping callback"
   ]
  },
  {
   "cell_type": "code",
   "execution_count": null,
   "metadata": {
    "id": "w_ma7IEwgtab"
   },
   "outputs": [],
   "source": [
    "RNN_es_call = EarlyStopping(monitor='val_loss', mode='min', verbose=1, patience=3)"
   ]
  },
  {
   "cell_type": "markdown",
   "metadata": {
    "id": "SFwEFOEahdJ8"
   },
   "source": [
    "Model summry"
   ]
  },
  {
   "cell_type": "code",
   "execution_count": null,
   "metadata": {
    "colab": {
     "base_uri": "https://localhost:8080/"
    },
    "id": "K3TpSoEthc8t",
    "outputId": "938936a3-d36e-4318-c391-d872d72f0a6e"
   },
   "outputs": [],
   "source": [
    "RNN_model.summary()"
   ]
  },
  {
   "cell_type": "markdown",
   "metadata": {
    "id": "8Gc2N6fphcp6"
   },
   "source": [
    "Model Training"
   ]
  },
  {
   "cell_type": "code",
   "execution_count": null,
   "metadata": {
    "colab": {
     "base_uri": "https://localhost:8080/",
     "height": 435
    },
    "id": "LIOyvSKZhcah",
    "outputId": "ca382d0c-3368-4177-b471-5ad92a9b6634"
   },
   "outputs": [],
   "source": [
    "RNN_history = RNN_model.fit(RNN_X_train, RNN_y_train, epochs=15, batch_size=32, validation_data=(RNN_X_val, RNN_y_val), callbacks=[RNN_es_call])"
   ]
  },
  {
   "cell_type": "markdown",
   "metadata": {
    "id": "ZtZNW0pGhcJo"
   },
   "source": [
    "### Evaluation"
   ]
  },
  {
   "cell_type": "markdown",
   "metadata": {
    "id": "7syG5Z0yiBi7"
   },
   "source": [
    "Plot training & validation of accuracy & loss values"
   ]
  },
  {
   "cell_type": "code",
   "execution_count": null,
   "metadata": {
    "id": "6t0ewGWBiBVA"
   },
   "outputs": [],
   "source": [
    "# Plot training & validation accuracy values\n",
    "plt.figure(figsize=(12, 6))\n",
    "\n",
    "plt.subplot(1, 2, 1)\n",
    "plt.plot(RNN_history.history['accuracy'], color='blue', label='Train')\n",
    "plt.plot(RNN_history.history['val_accuracy'], color='orange', label='Validation')\n",
    "plt.title('RNN Model Accuracy')\n",
    "plt.ylabel('Accuracy')\n",
    "plt.xlabel('Epoch')\n",
    "plt.legend(loc='upper left')\n",
    "\n",
    "# Plot training & validation loss values\n",
    "plt.subplot(1, 2, 2)\n",
    "plt.plot(RNN_history.history['loss'], color='blue', label='Train')\n",
    "plt.plot(RNN_history.history['val_loss'], color='orange', label='Validation')\n",
    "plt.title('RNN Model Loss')\n",
    "plt.ylabel('Loss')\n",
    "plt.xlabel('Epoch')\n",
    "plt.legend(loc='upper left')\n",
    "\n",
    "plt.tight_layout()\n",
    "plt.show()\n"
   ]
  },
  {
   "cell_type": "markdown",
   "metadata": {
    "id": "tRMS9SYQqOes"
   },
   "source": [
    "Prediction Evaluation"
   ]
  },
  {
   "cell_type": "code",
   "execution_count": null,
   "metadata": {
    "id": "WQ8yCKKzoIiy"
   },
   "outputs": [],
   "source": [
    "# Get the model's predictions on the test set\n",
    "RNN_y_pred = RNN_model.predict(RNN_X_test)\n",
    "RNN_y_pred = (RNN_y_pred > 0.5)  # convert probabilities to binary output\n",
    "\n",
    "# Compute the accuracy of the model\n",
    "RNN_accuracy = accuracy_score(RNN_y_test, RNN_y_pred)\n",
    "print(f'Accuracy: {RNN_accuracy}')\n",
    "\n",
    "# Compute the recall of the model\n",
    "RNN_recall = recall_score(RNN_y_test, RNN_y_pred)\n",
    "print(f'Recall: {RNN_recall}')\n",
    "\n",
    "# Compute the precision of the model\n",
    "RNN_precision = precision_score(RNN_y_test, RNN_y_pred)\n",
    "print(f'Precision: {RNN_precision}')\n",
    "\n",
    "# Compute the F1 score of the model\n",
    "RNN_f1 = f1_score(RNN_y_test, RNN_y_pred)\n",
    "print(f'F1 Score: {RNN_f1}')"
   ]
  },
  {
   "cell_type": "markdown",
   "metadata": {
    "id": "DM706Zm6E9m1"
   },
   "source": [
    "---\n",
    "\n",
    "## CNN"
   ]
  },
  {
   "cell_type": "markdown",
   "metadata": {
    "id": "_KdxM9w4FCxp"
   },
   "source": [
    "### Word Embeddings"
   ]
  },
  {
   "cell_type": "code",
   "execution_count": null,
   "metadata": {
    "id": "zCE0c1EIIaDf"
   },
   "outputs": [],
   "source": [
    "import keras\n",
    "from keras.utils import pad_sequences\n",
    "from keras.models import Sequential\n",
    "from keras.layers import Dense, Dropout, Activation\n",
    "from keras.layers import Embedding, LSTM\n",
    "from keras.layers import Conv1D, Flatten, GlobalMaxPooling1D\n",
    "import numpy as np\n",
    "from keras.preprocessing import text"
   ]
  },
  {
   "cell_type": "markdown",
   "metadata": {
    "id": "ioYAJX5Xn741"
   },
   "source": [
    "Prepare Embedding Layer"
   ]
  },
  {
   "cell_type": "code",
   "execution_count": null,
   "metadata": {
    "id": "9vYTUUnsM-Bh"
   },
   "outputs": [],
   "source": [
    "maxlen=1000"
   ]
  },
  {
   "cell_type": "markdown",
   "metadata": {
    "id": "8lNXtNVEn-uq"
   },
   "source": [
    "Keras Tokenization"
   ]
  },
  {
   "cell_type": "code",
   "execution_count": null,
   "metadata": {
    "colab": {
     "base_uri": "https://localhost:8080/"
    },
    "id": "4CByHxHgVCJn",
    "outputId": "56540ef1-1b6a-4fde-e50f-3b553b61af12"
   },
   "outputs": [],
   "source": [
    "CNN_X_train = X_train\n",
    "CNN_X_test = X_test\n",
    "\n",
    "CNN_y_train = y_train\n",
    "CNN_y_test = y_test\n",
    "\n",
    "# Verify the number of samples in the feature and target arrays\n",
    "print(\"Number of samples in CNN_X_train:\", len(CNN_X_train))\n",
    "print(\"Number of samples in CNN_X_test:\", len(CNN_X_test))\n",
    "print(\"Number of samples in CNN_y_train:\", len(CNN_y_train))\n",
    "print(\"Number of samples in CNN_y_test:\", len(CNN_y_test))"
   ]
  },
  {
   "cell_type": "code",
   "execution_count": null,
   "metadata": {
    "id": "v9DLRVUsPP4V"
   },
   "outputs": [],
   "source": [
    "tokenizer = text.Tokenizer()\n",
    "tokenizer.fit_on_texts(CNN_X_train)\n",
    "CNN_X_train = tokenizer.texts_to_matrix(CNN_X_train)\n",
    "CNN_X_test = tokenizer.texts_to_matrix(CNN_X_test)\n",
    "\n",
    "vocab_size = 1000\n",
    "\n",
    "CNN_X_train = pad_sequences(CNN_X_train, maxlen=maxlen)\n",
    "CNN_X_test = pad_sequences(CNN_X_test, maxlen=maxlen)"
   ]
  },
  {
   "cell_type": "code",
   "execution_count": null,
   "metadata": {
    "id": "kzA-TUZq_Y4e"
   },
   "outputs": [],
   "source": [
    "embeddings_index = dict()\n",
    "f = open('/content/drive/Shared drives/TDS3851 Assignment/glove/glove.6B.100d.txt')\n",
    "for line in f:\n",
    "    values = line.split()\n",
    "    word = values[0]\n",
    "    coefs = np.asarray(values[1:], dtype='float32')\n",
    "    embeddings_index[word] = coefs\n",
    "f.close()\n",
    "\n",
    "embedding_matrix = np.zeros((vocab_size, 100))\n",
    "for word, index in tokenizer.word_index.items():\n",
    "    if index > vocab_size - 1:\n",
    "        break\n",
    "    else:\n",
    "        embedding_vector = embeddings_index.get(word)\n",
    "        if embedding_vector is not None:\n",
    "            embedding_matrix[index] = embedding_vector"
   ]
  },
  {
   "cell_type": "code",
   "execution_count": null,
   "metadata": {
    "colab": {
     "base_uri": "https://localhost:8080/"
    },
    "id": "yDvjd1Mb5biV",
    "outputId": "a5e6ce40-6b6a-4b99-fba4-0824630782b0"
   },
   "outputs": [],
   "source": [
    "embedding_matrix.shape"
   ]
  },
  {
   "cell_type": "markdown",
   "metadata": {
    "id": "VDRGd3o3QsWR"
   },
   "source": [
    "### Hyperparameter Tuning"
   ]
  },
  {
   "cell_type": "code",
   "execution_count": null,
   "metadata": {
    "id": "vQ9p5DZ4GFx6"
   },
   "outputs": [],
   "source": [
    "maxlen = 1000"
   ]
  },
  {
   "cell_type": "code",
   "execution_count": null,
   "metadata": {
    "id": "ZhP2EGJjiCNg"
   },
   "outputs": [],
   "source": [
    "def CNN_build_model(hp):\n",
    "    CNN_model = Sequential()\n",
    "\n",
    "    embedding_layer = Embedding(vocab_size, 100, weights=[embedding_matrix], input_length=maxlen , trainable=False)\n",
    "    CNN_model.add(embedding_layer)\n",
    "\n",
    "    hp_filters = hp.Int('filter', min_value=32, max_value=128, step=16)\n",
    "    hp_kernel_sizes = hp.Choice('kernel', values = [3,5])\n",
    "    hp_learning_rate = hp.Choice('learning_rate', values=[1e-2, 1e-3, 1e-4])\n",
    "    hp_momentum = hp.Float('momentum', min_value=0, max_value=1, step=0.1)\n",
    "    hp_activation = hp.Choice('activation', values=['relu', 'tanh', 'sigmoid'])\n",
    "\n",
    "\n",
    "    CNN_model.add(Conv1D(filters=hp_filters, kernel_size=hp_kernel_sizes, activation=hp_activation))\n",
    "    CNN_model.add(GlobalMaxPooling1D())\n",
    "    CNN_model.add(Dense(1, activation='sigmoid'))\n",
    "\n",
    "    # CNN_model.compile(optimizer='adam', loss='binary_crossentropy', metrics=['accuracy'])\n",
    "    CNN_model.compile(optimizer=keras.optimizers.SGD(learning_rate=hp_learning_rate, momentum=hp_momentum),\n",
    "                      loss='binary_crossentropy',\n",
    "                      metrics=['accuracy'])\n",
    "\n",
    "    return CNN_model"
   ]
  },
  {
   "cell_type": "code",
   "execution_count": null,
   "metadata": {
    "id": "0M_5gMooZIE_"
   },
   "outputs": [],
   "source": [
    "CNN_tuner=RandomSearch(\n",
    "    CNN_build_model,\n",
    "    objective='val_accuracy',\n",
    "    max_trials=5,\n",
    "    executions_per_trial=1,\n",
    "    directory='Tuning',\n",
    "    project_name='CNN_Hyper_Tuning')"
   ]
  },
  {
   "cell_type": "code",
   "execution_count": null,
   "metadata": {
    "colab": {
     "base_uri": "https://localhost:8080/"
    },
    "id": "_zHhFN_EkW4y",
    "outputId": "b2404e18-44bd-48b1-8819-4708a0ba09b2"
   },
   "outputs": [],
   "source": [
    "CNN_tuner.search_space_summary()"
   ]
  },
  {
   "cell_type": "code",
   "execution_count": null,
   "metadata": {
    "id": "8nev30wRkYkp"
   },
   "outputs": [],
   "source": [
    "CNN_tuner.search(CNN_X_train,CNN_y_train,epochs=3, validation_data=(CNN_X_test, CNN_y_test))"
   ]
  },
  {
   "cell_type": "markdown",
   "metadata": {
    "id": "Fc44yvMFFl3b"
   },
   "source": [
    "Get the optimal hyperparameters"
   ]
  },
  {
   "cell_type": "code",
   "execution_count": null,
   "metadata": {
    "colab": {
     "base_uri": "https://localhost:8080/"
    },
    "id": "Cxbz9gItFo-x",
    "outputId": "7e78cd23-ac11-4639-c417-03b739d86743"
   },
   "outputs": [],
   "source": [
    "CNN_results = CNN_tuner.get_best_hyperparameters(num_trials=1)[0].values\n",
    "print('The hyperparameter search is complete. \\nThe optimal Parameters are:\\n')\n",
    "# Print the results\n",
    "for hyperparam in CNN_results:\n",
    "    print(f\"{hyperparam}: {CNN_results[hyperparam]}\")"
   ]
  },
  {
   "cell_type": "code",
   "execution_count": null,
   "metadata": {
    "colab": {
     "base_uri": "https://localhost:8080/",
     "height": 1000
    },
    "id": "6GhDwwU0Foaf",
    "outputId": "81eaf87c-5a6b-426b-ef2d-c0802eba45d8"
   },
   "outputs": [],
   "source": [
    "# Get the trial information into a dataframe\n",
    "CNN_trials = CNN_tuner.oracle.trials\n",
    "CNN_trial_info = {t: CNN_trials[t].hyperparameters.values for t in CNN_trials}\n",
    "CNN_trial_info = pd.DataFrame(CNN_trial_info).T\n",
    "\n",
    "# Add score information to the dataframe\n",
    "CNN_trial_scores = {t: CNN_trials[t].score for t in CNN_trials}\n",
    "CNN_trial_info['score'] = CNN_trial_info.index.map(CNN_trial_scores)\n",
    "\n",
    "# Determine the number of rows and columns for subplots\n",
    "num_hyperparams = len(CNN_trial_info.columns) - 1\n",
    "num_rows = int((num_hyperparams + 1) / 2)\n",
    "num_cols = 2\n",
    "\n",
    "# Create a figure and axes for subplots\n",
    "fig, axes = plt.subplots(num_rows, num_cols, figsize=(12, 15))\n",
    "axes = axes.flatten()\n",
    "\n",
    "# For each hyperparameter\n",
    "for i, hyperparam in enumerate(CNN_trial_info.columns):\n",
    "    # Skip the score\n",
    "    if hyperparam == 'score':\n",
    "        continue\n",
    "\n",
    "    ax = axes[i]\n",
    "\n",
    "    # Check if the column is categorical\n",
    "    if CNN_trial_info[hyperparam].dtype == 'object':\n",
    "        # Create a box plot\n",
    "        sns.scatterplot(data=CNN_trial_info, x=CNN_trial_info[hyperparam], y='score', ax=ax)\n",
    "        ax.set_xlabel(hyperparam)\n",
    "        ax.set_ylabel('Validation Accuracy')\n",
    "    else:\n",
    "        # Create a scatter plot\n",
    "        sns.scatterplot(data=CNN_trial_info, x=hyperparam, y='score', ax=ax, alpha=0.5)\n",
    "\n",
    "        # If the hyperparameter is learning_rate, use a log scale\n",
    "        if hyperparam == 'learning_rate':\n",
    "            ax.set_xscale('log')\n",
    "\n",
    "        # Add density estimation\n",
    "        sns.kdeplot(data=CNN_trial_info, x=hyperparam, y='score', ax=ax, cmap='viridis', fill=True)\n",
    "\n",
    "        ax.set_xlabel(hyperparam)\n",
    "        ax.set_ylabel('Validation Accuracy')\n",
    "\n",
    "    ax.set_title(f'Effect of {hyperparam} on Validation Accuracy')\n",
    "\n",
    "# Adjust the layout and spacing\n",
    "plt.tight_layout()\n",
    "\n",
    "plt.show()"
   ]
  },
  {
   "cell_type": "markdown",
   "metadata": {
    "id": "i7fzlKxfJmsz"
   },
   "source": [
    "### Building the CNN Model"
   ]
  },
  {
   "cell_type": "markdown",
   "metadata": {
    "id": "LfMxYd2HCkcE"
   },
   "source": [
    "Get the optimal hyperparameters"
   ]
  },
  {
   "cell_type": "code",
   "execution_count": null,
   "metadata": {
    "id": "Bp2Ko-dYCd12"
   },
   "outputs": [],
   "source": [
    "CNN_best_hps = CNN_tuner.get_best_hyperparameters(num_trials=1)[0]"
   ]
  },
  {
   "cell_type": "markdown",
   "metadata": {
    "id": "8QBgTBoyCno2"
   },
   "source": [
    "Build the model with the optimal hyperparameters"
   ]
  },
  {
   "cell_type": "code",
   "execution_count": null,
   "metadata": {
    "id": "X08t94qgCpRJ"
   },
   "outputs": [],
   "source": [
    "CNN_model = CNN_tuner.hypermodel.build(CNN_best_hps)"
   ]
  },
  {
   "cell_type": "markdown",
   "metadata": {
    "id": "6g_4_Gg3C2XF"
   },
   "source": [
    "Model Summary"
   ]
  },
  {
   "cell_type": "code",
   "execution_count": null,
   "metadata": {
    "colab": {
     "base_uri": "https://localhost:8080/"
    },
    "id": "9uJt5PIwC3kW",
    "outputId": "a32fbf56-141b-4b93-edb3-3e5646fa38f4"
   },
   "outputs": [],
   "source": [
    "CNN_model.summary()"
   ]
  },
  {
   "cell_type": "markdown",
   "metadata": {
    "id": "sNgbnkS8C5u6"
   },
   "source": [
    "Model Training"
   ]
  },
  {
   "cell_type": "code",
   "execution_count": null,
   "metadata": {
    "colab": {
     "base_uri": "https://localhost:8080/"
    },
    "id": "LfsvSGlm4s-T",
    "outputId": "7c5669a4-f14a-42d8-d83d-25f53c6568ac"
   },
   "outputs": [],
   "source": [
    "CNN_history = CNN_model.fit(CNN_X_train, CNN_y_train, batch_size=128, epochs=6, verbose=1, validation_split=0.2)"
   ]
  },
  {
   "cell_type": "markdown",
   "metadata": {
    "id": "O__wqvZMD87q"
   },
   "source": [
    "### Evaluation"
   ]
  },
  {
   "cell_type": "markdown",
   "metadata": {
    "id": "vRG60adAEa3R"
   },
   "source": [
    "Plot Training & Validation of Accuracy & Loss Values"
   ]
  },
  {
   "cell_type": "code",
   "execution_count": null,
   "metadata": {
    "colab": {
     "base_uri": "https://localhost:8080/",
     "height": 468
    },
    "id": "HJq7GnAREEjr",
    "outputId": "ce1b4f17-3e7b-4275-d568-d4bc8ba6e8d4"
   },
   "outputs": [],
   "source": [
    "# Plot training & validation accuracy values\n",
    "plt.figure(figsize=(12, 6))\n",
    "\n",
    "plt.subplot(1, 2, 1)\n",
    "plt.plot(CNN_history.history['accuracy'], color='blue', label='Train')\n",
    "plt.plot(CNN_history.history['val_accuracy'], color='orange', label='Validation')\n",
    "plt.title('CNN Model Accuracy')\n",
    "plt.ylabel('Accuracy')\n",
    "plt.xlabel('Epoch')\n",
    "plt.legend(loc='upper left')\n",
    "\n",
    "# Plot training & validation loss values\n",
    "plt.subplot(1, 2, 2)\n",
    "plt.plot(CNN_history.history['loss'], color='blue', label='Train')\n",
    "plt.plot(CNN_history.history['val_loss'], color='orange', label='Validation')\n",
    "plt.title('CNN Model Loss')\n",
    "plt.ylabel('Loss')\n",
    "plt.xlabel('Epoch')\n",
    "plt.legend(loc='upper left')\n",
    "\n",
    "plt.tight_layout()\n",
    "plt.show()"
   ]
  },
  {
   "cell_type": "markdown",
   "metadata": {
    "id": "mdPZqL1FEJpj"
   },
   "source": [
    "Prediction Evaluation"
   ]
  },
  {
   "cell_type": "code",
   "execution_count": null,
   "metadata": {
    "colab": {
     "base_uri": "https://localhost:8080/"
    },
    "id": "2unNh-KAEKpH",
    "outputId": "3a5e2462-2c3d-467a-d7c1-f29b4dad1942"
   },
   "outputs": [],
   "source": [
    "# Get the model's predictions on the test set\n",
    "CNN_y_pred = CNN_model.predict(CNN_X_test)\n",
    "CNN_y_pred = (CNN_y_pred > 0.5).astype(int)\n",
    "\n",
    "# Compute the accuracy of the model\n",
    "CNN_accuracy = accuracy_score(CNN_y_test, CNN_y_pred)\n",
    "print(f'Accuracy: {CNN_accuracy}')\n",
    "\n",
    "# Compute the recall of the model\n",
    "CNN_recall = recall_score(CNN_y_test, CNN_y_pred)\n",
    "print(f'Recall: {CNN_recall}')\n",
    "\n",
    "# Compute the precision of the model\n",
    "CNN_precision = precision_score(CNN_y_test, CNN_y_pred)\n",
    "print(f'Precision: {CNN_precision}')\n",
    "\n",
    "# Compute the F1 score of the model\n",
    "CNN_f1 = f1_score(CNN_y_test, CNN_y_pred)\n",
    "print(f'F1 Score: {CNN_f1}')\n"
   ]
  },
  {
   "cell_type": "markdown",
   "metadata": {
    "id": "uvQPW2sCP2ZR"
   },
   "source": [
    "---\n",
    "\n",
    "\n",
    "## FNN"
   ]
  },
  {
   "cell_type": "code",
   "execution_count": null,
   "metadata": {
    "id": "V6Tsmc8pDcJy"
   },
   "outputs": [],
   "source": [
    "from keras.models import Sequential\n",
    "from keras.layers import Dense\n",
    "from hyperopt import fmin, tpe, hp, STATUS_OK, Trials\n",
    "from keras.models import Sequential\n",
    "from keras.layers import Dense\n",
    "from keras.optimizers import Adam"
   ]
  },
  {
   "cell_type": "code",
   "execution_count": null,
   "metadata": {
    "id": "0SmE6ck6cRp0"
   },
   "outputs": [],
   "source": [
    "# define the model\n",
    "FNN_model = Sequential()"
   ]
  },
  {
   "cell_type": "code",
   "execution_count": null,
   "metadata": {
    "id": "k8mqzlcfpR8l"
   },
   "outputs": [],
   "source": [
    "# Convert the training set to an array if it's a sparse matrix\n",
    "if hasattr(X_train, 'toarray'):\n",
    "    X_train_array = X_train.toarray()\n",
    "else:\n",
    "    X_train_array = np.array(X_train)"
   ]
  },
  {
   "cell_type": "markdown",
   "metadata": {
    "id": "UbFDJIyVqnnD"
   },
   "source": [
    "### Hyperparameter Tuning"
   ]
  },
  {
   "cell_type": "code",
   "execution_count": null,
   "metadata": {
    "id": "0Y9NYyRMhiwJ",
    "scrolled": true
   },
   "outputs": [],
   "source": [
    "# Define the space of hyperparameters\n",
    "space = {\n",
    "    'units_1': hp.choice('units_1', range(50, 300)),\n",
    "    'units_2': hp.choice('units_2', range(25, 150)),\n",
    "    'learning_rate': hp.loguniform('learning_rate', -5, -2)\n",
    "}\n",
    "\n",
    "# Define the objective function\n",
    "def objective(params):\n",
    "    FNN_model = Sequential()\n",
    "    FNN_model.add(Dense(units=int(params['units_1']), activation='relu', input_dim=X_train_array.shape[1]))\n",
    "    FNN_model.add(Dense(units=int(params['units_2']), activation='relu'))\n",
    "    FNN_model.add(Dense(units=1, activation='sigmoid'))\n",
    "    optimizer = Adam(lr=params['learning_rate'])\n",
    "    FNN_model.compile(loss='binary_crossentropy', optimizer=optimizer, metrics=['accuracy'])\n",
    "\n",
    "    history = FNN_model.fit(X_train_array, y_train, epochs=3, verbose=0)\n",
    "    accuracy = history.history['accuracy'][-1]\n",
    "\n",
    "    return {'loss': -accuracy, 'status': STATUS_OK}\n",
    "\n"
   ]
  },
  {
   "cell_type": "code",
   "execution_count": null,
   "metadata": {},
   "outputs": [],
   "source": [
    "# Run the optimization\n",
    "trials = Trials()\n",
    "best = fmin(fn=objective,\n",
    "            space=space,\n",
    "            algo=tpe.suggest,\n",
    "            max_evals=10,\n",
    "            trials=trials)"
   ]
  },
  {
   "cell_type": "markdown",
   "metadata": {
    "id": "lsxk-UcDsb_f"
   },
   "source": [
    "Get the optimal hyperparameters"
   ]
  },
  {
   "cell_type": "code",
   "execution_count": null,
   "metadata": {
    "id": "WzUt-vFfsbbR"
   },
   "outputs": [],
   "source": [
    "print(\"Best hyperparameters: \", best)"
   ]
  },
  {
   "cell_type": "code",
   "execution_count": null,
   "metadata": {
    "id": "Zqhd2qn7p6D6"
   },
   "outputs": [],
   "source": [
    "# Extract loss from trials\n",
    "losses = [trial['result']['loss'] for trial in trials.trials]\n",
    "\n",
    "# Extract hyperparameters from trials\n",
    "units_1_values = [trial['misc']['vals']['units_1'][0] for trial in trials.trials]\n",
    "units_2_values = [trial['misc']['vals']['units_2'][0] for trial in trials.trials]\n",
    "learning_rates = [trial['misc']['vals']['learning_rate'][0] for trial in trials.trials]\n",
    "\n",
    "# Create subplots\n",
    "fig, axs = plt.subplots(3)\n",
    "\n",
    "# Plot units_1 values\n",
    "axs[0].plot(units_1_values, losses, 'o')\n",
    "axs[0].set_title('units_1 values')\n",
    "axs[0].set(xlabel='units_1', ylabel='Loss')\n",
    "\n",
    "# Plot units_2 values\n",
    "axs[1].plot(units_2_values, losses, 'o')\n",
    "axs[1].set_title('units_2 values')\n",
    "axs[1].set(xlabel='units_2', ylabel='Loss')\n",
    "\n",
    "# Plot learning_rate values\n",
    "axs[2].plot(learning_rates, losses, 'o')\n",
    "axs[2].set_title('Learning rate values')\n",
    "axs[2].set(xlabel='Learning rate', ylabel='Loss')\n",
    "\n",
    "# Display the plots\n",
    "plt.tight_layout()\n",
    "plt.show()\n"
   ]
  },
  {
   "cell_type": "markdown",
   "metadata": {
    "id": "M9mNvIQMreIp"
   },
   "source": [
    "### Building the FNN Model"
   ]
  },
  {
   "cell_type": "code",
   "execution_count": null,
   "metadata": {
    "id": "Hcz6sRdIhg6_"
   },
   "outputs": [],
   "source": [
    "# Define the space of hyperparameters as lists so we can extract the 'best' values later\n",
    "units_1_options = list(range(50, 300))\n",
    "units_2_options = list(range(25, 150))\n",
    "\n",
    "space = {\n",
    "    'units_1': hp.choice('units_1', units_1_options),\n",
    "    'units_2': hp.choice('units_2', units_2_options),\n",
    "    'learning_rate': hp.loguniform('learning_rate', -5, -2)\n",
    "}\n",
    "\n",
    "# After running the optimization, retrieve best hyperparameters\n",
    "\n",
    "best_units_1 = units_1_options[best['units_1']]\n",
    "best_units_2 = units_2_options[best['units_2']]\n",
    "best_learning_rate = best['learning_rate']\n",
    "\n",
    "# Build model with optimized hyperparameters\n",
    "FNN_model = Sequential()\n",
    "\n",
    "# Add a dense input layer\n",
    "FNN_model.add(Dense(units=best_units_1, activation='relu', input_dim=X_train_array.shape[1]))\n",
    "\n",
    "# Add another dense layer\n",
    "FNN_model.add(Dense(units=best_units_2, activation='relu'))\n",
    "\n",
    "# Add a dense output layer\n",
    "FNN_model.add(Dense(units=1, activation='sigmoid'))\n",
    "\n",
    "# Compile the model\n",
    "FNN_model.compile(loss='binary_crossentropy', optimizer=Adam(lr=best_learning_rate), metrics=['accuracy'])\n",
    "\n",
    "\n",
    "# Print the summary of the model\n",
    "FNN_model.summary()\n"
   ]
  },
  {
   "cell_type": "code",
   "execution_count": null,
   "metadata": {
    "id": "xoRxRmaDhixG"
   },
   "outputs": [],
   "source": [
    "X_train,X_val,y_train,y_val=train_test_split(X_train_array, y_train, test_size=0.2, random_state=42)"
   ]
  },
  {
   "cell_type": "code",
   "execution_count": null,
   "metadata": {
    "id": "TYDjoyFzhmxs"
   },
   "outputs": [],
   "source": [
    "# Fit the model\n",
    "FNN_histroty = FNN_model.fit(X_train, y_train, epochs=5, verbose=1, validation_data=(X_val,y_val))"
   ]
  },
  {
   "cell_type": "markdown",
   "metadata": {
    "id": "ZHGJSzSZr7mK"
   },
   "source": [
    "### Evaluation"
   ]
  },
  {
   "cell_type": "markdown",
   "metadata": {
    "id": "VRB5bsZGr6H2"
   },
   "source": [
    "Plot Training & Validation of Accuracy & Loss Values"
   ]
  },
  {
   "cell_type": "code",
   "execution_count": null,
   "metadata": {
    "id": "RzYDOcMohrCm"
   },
   "outputs": [],
   "source": [
    "# Plot training & validation accuracy values\n",
    "plt.figure(figsize=(12, 6))\n",
    "\n",
    "plt.subplot(1, 2, 1)\n",
    "plt.plot(FNN_histroty.history['accuracy'], color='blue', label='Train')\n",
    "plt.plot(FNN_histroty.history['val_accuracy'], color='orange', label='Validation')\n",
    "plt.title('FNN Model Accuracy')\n",
    "plt.ylabel('Accuracy')\n",
    "plt.xlabel('Epoch')\n",
    "plt.legend(loc='upper left')\n",
    "\n",
    "# Plot training & validation loss values\n",
    "plt.subplot(1, 2, 2)\n",
    "plt.plot(FNN_histroty.history['loss'], color='blue', label='Train')\n",
    "plt.plot(FNN_histroty.history['val_loss'], color='orange', label='Validation')\n",
    "plt.title('FNN Model Loss')\n",
    "plt.ylabel('Loss')\n",
    "plt.xlabel('Epoch')\n",
    "plt.legend(loc='upper left')\n",
    "\n",
    "plt.tight_layout()\n",
    "plt.show()"
   ]
  },
  {
   "cell_type": "markdown",
   "metadata": {
    "id": "qbPlC23lsICR"
   },
   "source": [
    "Prediction Evaluation"
   ]
  },
  {
   "cell_type": "code",
   "execution_count": null,
   "metadata": {
    "id": "vrBw4f8_sRhr"
   },
   "outputs": [],
   "source": [
    "# Threshold for classification\n",
    "threshold = 0.5\n",
    "\n",
    "# Predict probabilities and convert to binary predictions\n",
    "FNN_y_pred_prob = FNN_model.predict(X_test.toarray())\n",
    "FNN_y_pred = (FNN_y_pred_prob > threshold).astype(int)"
   ]
  },
  {
   "cell_type": "code",
   "execution_count": null,
   "metadata": {
    "id": "FureYE3Ehwim"
   },
   "outputs": [],
   "source": [
    "# Compute the accuracy of the model\n",
    "FNN_accuracy = accuracy_score(y_test, FNN_y_pred)\n",
    "print(f'Accuracy: {FNN_accuracy}')\n",
    "\n",
    "# Compute the recall of the model\n",
    "FNN_recall = recall_score(y_test, FNN_y_pred)\n",
    "print(f'Recall: {FNN_recall}')\n",
    "\n",
    "# Compute the precision of the model\n",
    "FNN_precision = precision_score(y_test, FNN_y_pred)\n",
    "print(f'Precision: {FNN_precision}')\n",
    "\n",
    "# Compute the F1 score of the model\n",
    "FNN_f1 = f1_score(y_test, FNN_y_pred)\n",
    "print(f'F1 Score: {FNN_f1}')"
   ]
  },
  {
   "cell_type": "markdown",
   "metadata": {
    "id": "acNlK0L1ot0n"
   },
   "source": [
    "---\n",
    "# Models comparison"
   ]
  },
  {
   "cell_type": "code",
   "execution_count": null,
   "metadata": {
    "id": "lTHSEHTgotdk"
   },
   "outputs": [],
   "source": [
    "models = ['RNN', 'CNN', 'FNN']\n",
    "metrics = ['Accuracy', 'Recall', 'Precision', 'F1 Score']\n",
    "\n",
    "accuracy_values = [RNN_accuracy, CNN_accuracy, FNN_accuracy]\n",
    "recall_values = [RNN_recall, CNN_recall, FNN_recall]\n",
    "precision_values = [RNN_precision, CNN_precision, FNN_precision]\n",
    "f1score_values = [RNN_f1, CNN_f1, FNN_f1]\n",
    "\n",
    "colors = ['#F29727', '#001C30', '#22A699']\n",
    "\n",
    "\n",
    "# Set figure size and font style\n",
    "plt.figure(figsize=(10, 6))\n",
    "plt.rcParams.update({'font.size': 10})\n",
    "\n",
    "# Plotting the line chart\n",
    "for i in range(len(models)):\n",
    "    plt.plot(metrics, [accuracy_values[i], recall_values[i], precision_values[i], f1score_values[i]],\n",
    "             marker='o', color=colors[i], label=models[i], linewidth=2)\n",
    "\n",
    "plt.xlabel('Metrics')\n",
    "plt.ylabel('Percentage')\n",
    "plt.title('Model Comparison')\n",
    "plt.legend()\n",
    "plt.grid(True, linestyle='--', alpha=0.7)\n",
    "plt.ylim(75, 101)\n",
    "\n",
    "plt.show()"
   ]
  }
 ],
 "metadata": {
  "colab": {
   "provenance": []
  },
  "kernelspec": {
   "display_name": "Python 3 (ipykernel)",
   "language": "python",
   "name": "python3"
  },
  "language_info": {
   "codemirror_mode": {
    "name": "ipython",
    "version": 3
   },
   "file_extension": ".py",
   "mimetype": "text/x-python",
   "name": "python",
   "nbconvert_exporter": "python",
   "pygments_lexer": "ipython3",
   "version": "3.10.4"
  }
 },
 "nbformat": 4,
 "nbformat_minor": 1
}
